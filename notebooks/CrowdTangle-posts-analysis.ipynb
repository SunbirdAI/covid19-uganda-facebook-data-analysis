{
 "cells": [
  {
   "cell_type": "code",
   "execution_count": 2,
   "metadata": {},
   "outputs": [],
   "source": [
    "import pandas as pd"
   ]
  },
  {
   "cell_type": "code",
   "execution_count": 2,
   "metadata": {},
   "outputs": [],
   "source": [
    "import warnings\n",
    "warnings.filterwarnings(\"ignore\")"
   ]
  },
  {
   "cell_type": "code",
   "execution_count": 3,
   "metadata": {},
   "outputs": [],
   "source": [
    "posts = pd.read_csv('../data/2020-08-19-12-13-18-EAT-Historical-Report-1970-01-01--2020-08-19.csv')"
   ]
  },
  {
   "cell_type": "code",
   "execution_count": 4,
   "metadata": {
    "scrolled": true
   },
   "outputs": [],
   "source": [
    "# posts = posts[['Facebook Id', 'Message', 'Description']]\n",
    "# posts.dropna(subset=['Message', 'Description'], inplace=True)\n",
    "# posts['text'] = posts['Message'].str.cat(posts['Description'], sep=' \\n ', na_rep='')\n",
    "# posts['label'] = ''\n",
    "# posts"
   ]
  },
  {
   "cell_type": "markdown",
   "metadata": {},
   "source": [
    "## Annotation"
   ]
  },
  {
   "cell_type": "markdown",
   "metadata": {},
   "source": [
    "### Prepare dataset for annotation"
   ]
  },
  {
   "cell_type": "code",
   "execution_count": 5,
   "metadata": {
    "scrolled": true
   },
   "outputs": [
    {
     "output_type": "execute_result",
     "data": {
      "text/plain": "            Facebook Id                                            Message  \\\n1       169252986456497  NTV BIZ: With bad loans at more than 50% for t...   \n23         105583497196  Police summon Tumukunde over meetings with arm...   \n27         105583497196  The battle for top positions in the Central Ex...   \n28      169252986456497  The Uganda Law Society has written to the Law ...   \n45      169252986456497  Presidential Aspirant and former Security mini...   \n...                 ...                                                ...   \n299938     274577061337  Only true leaders know when to be political an...   \n299943  169252986456497  About 3.4 million Uganda will be pushed into p...   \n299947     274577061337  \"What kind of quarantine is this where there i...   \n299951  169252986456497  #Mwasuzemutya Emboozi ya Dj Jacob Omutuuze www...   \n299955  169252986456497  All court hearings and appearances have been s...   \n\n                                              Description  \\\n1       With bad loans at more than 50% for the Equity...   \n23      The former intelligence chief is currently bat...   \n27      NEC members are expected to endorse the names ...   \n28      The Uganda Law Society has written to the Law ...   \n45      Presidential Aspirant and former Security mini...   \n...                                                   ...   \n299938  As we continue to do all we can as a country t...   \n299943  About 3.4 million Uganda will be pushed into p...   \n299947  The Uganda Civil Aviation Authority (CAA) is o...   \n299951         #Mwasuzemutya Emboozi ya Dj Jacob Omutuuze   \n299955  All court hearings and appearances have been s...   \n\n                                                     text label  \n1       NTV BIZ: With bad loans at more than 50% for t...        \n23      Police summon Tumukunde over meetings with arm...        \n27      The battle for top positions in the Central Ex...        \n28      The Uganda Law Society has written to the Law ...        \n45      Presidential Aspirant and former Security mini...        \n...                                                   ...   ...  \n299938  Only true leaders know when to be political an...        \n299943  About 3.4 million Uganda will be pushed into p...        \n299947  \"What kind of quarantine is this where there i...        \n299951  #Mwasuzemutya Emboozi ya Dj Jacob Omutuuze www...        \n299955  All court hearings and appearances have been s...        \n\n[32028 rows x 5 columns]",
      "text/html": "<div>\n<style scoped>\n    .dataframe tbody tr th:only-of-type {\n        vertical-align: middle;\n    }\n\n    .dataframe tbody tr th {\n        vertical-align: top;\n    }\n\n    .dataframe thead th {\n        text-align: right;\n    }\n</style>\n<table border=\"1\" class=\"dataframe\">\n  <thead>\n    <tr style=\"text-align: right;\">\n      <th></th>\n      <th>Facebook Id</th>\n      <th>Message</th>\n      <th>Description</th>\n      <th>text</th>\n      <th>label</th>\n    </tr>\n  </thead>\n  <tbody>\n    <tr>\n      <th>1</th>\n      <td>169252986456497</td>\n      <td>NTV BIZ: With bad loans at more than 50% for t...</td>\n      <td>With bad loans at more than 50% for the Equity...</td>\n      <td>NTV BIZ: With bad loans at more than 50% for t...</td>\n      <td></td>\n    </tr>\n    <tr>\n      <th>23</th>\n      <td>105583497196</td>\n      <td>Police summon Tumukunde over meetings with arm...</td>\n      <td>The former intelligence chief is currently bat...</td>\n      <td>Police summon Tumukunde over meetings with arm...</td>\n      <td></td>\n    </tr>\n    <tr>\n      <th>27</th>\n      <td>105583497196</td>\n      <td>The battle for top positions in the Central Ex...</td>\n      <td>NEC members are expected to endorse the names ...</td>\n      <td>The battle for top positions in the Central Ex...</td>\n      <td></td>\n    </tr>\n    <tr>\n      <th>28</th>\n      <td>169252986456497</td>\n      <td>The Uganda Law Society has written to the Law ...</td>\n      <td>The Uganda Law Society has written to the Law ...</td>\n      <td>The Uganda Law Society has written to the Law ...</td>\n      <td></td>\n    </tr>\n    <tr>\n      <th>45</th>\n      <td>169252986456497</td>\n      <td>Presidential Aspirant and former Security mini...</td>\n      <td>Presidential Aspirant and former Security mini...</td>\n      <td>Presidential Aspirant and former Security mini...</td>\n      <td></td>\n    </tr>\n    <tr>\n      <th>...</th>\n      <td>...</td>\n      <td>...</td>\n      <td>...</td>\n      <td>...</td>\n      <td>...</td>\n    </tr>\n    <tr>\n      <th>299938</th>\n      <td>274577061337</td>\n      <td>Only true leaders know when to be political an...</td>\n      <td>As we continue to do all we can as a country t...</td>\n      <td>Only true leaders know when to be political an...</td>\n      <td></td>\n    </tr>\n    <tr>\n      <th>299943</th>\n      <td>169252986456497</td>\n      <td>About 3.4 million Uganda will be pushed into p...</td>\n      <td>About 3.4 million Uganda will be pushed into p...</td>\n      <td>About 3.4 million Uganda will be pushed into p...</td>\n      <td></td>\n    </tr>\n    <tr>\n      <th>299947</th>\n      <td>274577061337</td>\n      <td>\"What kind of quarantine is this where there i...</td>\n      <td>The Uganda Civil Aviation Authority (CAA) is o...</td>\n      <td>\"What kind of quarantine is this where there i...</td>\n      <td></td>\n    </tr>\n    <tr>\n      <th>299951</th>\n      <td>169252986456497</td>\n      <td>#Mwasuzemutya Emboozi ya Dj Jacob Omutuuze www...</td>\n      <td>#Mwasuzemutya Emboozi ya Dj Jacob Omutuuze</td>\n      <td>#Mwasuzemutya Emboozi ya Dj Jacob Omutuuze www...</td>\n      <td></td>\n    </tr>\n    <tr>\n      <th>299955</th>\n      <td>169252986456497</td>\n      <td>All court hearings and appearances have been s...</td>\n      <td>All court hearings and appearances have been s...</td>\n      <td>All court hearings and appearances have been s...</td>\n      <td></td>\n    </tr>\n  </tbody>\n</table>\n<p>32028 rows × 5 columns</p>\n</div>"
     },
     "metadata": {},
     "execution_count": 5
    }
   ],
   "source": [
    "# Try new approach for creating 'text' column\n",
    "posts = posts[['Facebook Id', 'Message', 'Description']]\n",
    "posts.dropna(subset=['Message', 'Description'], inplace=True)\n",
    "posts.Message.fillna(posts.Description, inplace=True)\n",
    "posts['text'] = posts['Message']\n",
    "posts['label'] = ''\n",
    "posts"
   ]
  },
  {
   "cell_type": "code",
   "execution_count": 6,
   "metadata": {},
   "outputs": [],
   "source": [
    "posts.drop(columns=['Message', 'Description'], inplace=True)"
   ]
  },
  {
   "cell_type": "code",
   "execution_count": 7,
   "metadata": {},
   "outputs": [
    {
     "output_type": "execute_result",
     "data": {
      "text/plain": "        Facebook Id                                               text label\n1   169252986456497  NTV BIZ: With bad loans at more than 50% for t...      \n23     105583497196  Police summon Tumukunde over meetings with arm...      \n27     105583497196  The battle for top positions in the Central Ex...      \n28  169252986456497  The Uganda Law Society has written to the Law ...      \n45  169252986456497  Presidential Aspirant and former Security mini...      ",
      "text/html": "<div>\n<style scoped>\n    .dataframe tbody tr th:only-of-type {\n        vertical-align: middle;\n    }\n\n    .dataframe tbody tr th {\n        vertical-align: top;\n    }\n\n    .dataframe thead th {\n        text-align: right;\n    }\n</style>\n<table border=\"1\" class=\"dataframe\">\n  <thead>\n    <tr style=\"text-align: right;\">\n      <th></th>\n      <th>Facebook Id</th>\n      <th>text</th>\n      <th>label</th>\n    </tr>\n  </thead>\n  <tbody>\n    <tr>\n      <th>1</th>\n      <td>169252986456497</td>\n      <td>NTV BIZ: With bad loans at more than 50% for t...</td>\n      <td></td>\n    </tr>\n    <tr>\n      <th>23</th>\n      <td>105583497196</td>\n      <td>Police summon Tumukunde over meetings with arm...</td>\n      <td></td>\n    </tr>\n    <tr>\n      <th>27</th>\n      <td>105583497196</td>\n      <td>The battle for top positions in the Central Ex...</td>\n      <td></td>\n    </tr>\n    <tr>\n      <th>28</th>\n      <td>169252986456497</td>\n      <td>The Uganda Law Society has written to the Law ...</td>\n      <td></td>\n    </tr>\n    <tr>\n      <th>45</th>\n      <td>169252986456497</td>\n      <td>Presidential Aspirant and former Security mini...</td>\n      <td></td>\n    </tr>\n  </tbody>\n</table>\n</div>"
     },
     "metadata": {},
     "execution_count": 7
    }
   ],
   "source": [
    "posts.head()"
   ]
  },
  {
   "cell_type": "markdown",
   "metadata": {},
   "source": [
    "### Extract 5000 posts for annotation"
   ]
  },
  {
   "cell_type": "code",
   "execution_count": 9,
   "metadata": {},
   "outputs": [],
   "source": [
    "# sample_posts = posts.head(2000)\n",
    "sample_posts = posts.iloc[2001:7001]"
   ]
  },
  {
   "cell_type": "code",
   "execution_count": 9,
   "metadata": {},
   "outputs": [],
   "source": [
    "sample_posts.to_csv('sample_posts_text3.csv')"
   ]
  },
  {
   "cell_type": "markdown",
   "metadata": {},
   "source": [
    "### Some other sample posts"
   ]
  },
  {
   "cell_type": "code",
   "execution_count": 14,
   "metadata": {},
   "outputs": [],
   "source": [
    "other_sample_posts = posts.iloc[7001:7501]\n",
    "other_sample_posts.drop(['Facebook Id', 'label'], axis=1, inplace=True)\n",
    "other_sample_posts['category'] = ''\n",
    "other_sample_posts.to_csv('other_sample_posts.csv')"
   ]
  },
  {
   "cell_type": "markdown",
   "metadata": {},
   "source": [
    "## Post-annotation"
   ]
  },
  {
   "cell_type": "markdown",
   "metadata": {},
   "source": [
    "### Read in annotated dataset"
   ]
  },
  {
   "cell_type": "code",
   "execution_count": 2,
   "metadata": {},
   "outputs": [
    {
     "output_type": "execute_result",
     "data": {
      "text/plain": "  annotation_approver    id  label   meta  meta.Facebook Id  \\\n0                 NaN  3262     12  21421      274577061337   \n1                 NaN  3517     12  23805  1681786142107330   \n2                 NaN  3518     12  23811  1681786142107330   \n3                 NaN  3869     12  27335  1681786142107330   \n4                 NaN  3870     12  27373      274577061337   \n5                 NaN  4138     14  30424  1681786142107330   \n6                 NaN  3263     13  21423      329423169077   \n7                 NaN  3264     12  21425  1486116641609917   \n8                 NaN  3265     13  21436      105583497196   \n9                 NaN  3266     12  21454      274577061337   \n\n                                                text  user  \n0                               Defence and excuses!     7  \n1                                  PEOPLE POWER/ NUP     2  \n2                               MR .UPDATE MP TO BE.     7  \n3                                   Permit to sing 🎶     7  \n4                DONALD J. TRUMP HAS GONE BONKERS!!!     7  \n5                    Food Grade Packaging Paper Bags     2  \n6  Celebrating 70 years of Formula One 🗞️ Story i...     2  \n7                         KABULETA ALEETA SENTE 2021     2  \n8  Bizonto, popular culture and politics of the d...     2  \n9     Learning From Dr. Patrick Bitature | Episode 1     2  ",
      "text/html": "<div>\n<style scoped>\n    .dataframe tbody tr th:only-of-type {\n        vertical-align: middle;\n    }\n\n    .dataframe tbody tr th {\n        vertical-align: top;\n    }\n\n    .dataframe thead th {\n        text-align: right;\n    }\n</style>\n<table border=\"1\" class=\"dataframe\">\n  <thead>\n    <tr style=\"text-align: right;\">\n      <th></th>\n      <th>annotation_approver</th>\n      <th>id</th>\n      <th>label</th>\n      <th>meta</th>\n      <th>meta.Facebook Id</th>\n      <th>text</th>\n      <th>user</th>\n    </tr>\n  </thead>\n  <tbody>\n    <tr>\n      <th>0</th>\n      <td>NaN</td>\n      <td>3262</td>\n      <td>12</td>\n      <td>21421</td>\n      <td>274577061337</td>\n      <td>Defence and excuses!</td>\n      <td>7</td>\n    </tr>\n    <tr>\n      <th>1</th>\n      <td>NaN</td>\n      <td>3517</td>\n      <td>12</td>\n      <td>23805</td>\n      <td>1681786142107330</td>\n      <td>PEOPLE POWER/ NUP</td>\n      <td>2</td>\n    </tr>\n    <tr>\n      <th>2</th>\n      <td>NaN</td>\n      <td>3518</td>\n      <td>12</td>\n      <td>23811</td>\n      <td>1681786142107330</td>\n      <td>MR .UPDATE MP TO BE.</td>\n      <td>7</td>\n    </tr>\n    <tr>\n      <th>3</th>\n      <td>NaN</td>\n      <td>3869</td>\n      <td>12</td>\n      <td>27335</td>\n      <td>1681786142107330</td>\n      <td>Permit to sing 🎶</td>\n      <td>7</td>\n    </tr>\n    <tr>\n      <th>4</th>\n      <td>NaN</td>\n      <td>3870</td>\n      <td>12</td>\n      <td>27373</td>\n      <td>274577061337</td>\n      <td>DONALD J. TRUMP HAS GONE BONKERS!!!</td>\n      <td>7</td>\n    </tr>\n    <tr>\n      <th>5</th>\n      <td>NaN</td>\n      <td>4138</td>\n      <td>14</td>\n      <td>30424</td>\n      <td>1681786142107330</td>\n      <td>Food Grade Packaging Paper Bags</td>\n      <td>2</td>\n    </tr>\n    <tr>\n      <th>6</th>\n      <td>NaN</td>\n      <td>3263</td>\n      <td>13</td>\n      <td>21423</td>\n      <td>329423169077</td>\n      <td>Celebrating 70 years of Formula One 🗞️ Story i...</td>\n      <td>2</td>\n    </tr>\n    <tr>\n      <th>7</th>\n      <td>NaN</td>\n      <td>3264</td>\n      <td>12</td>\n      <td>21425</td>\n      <td>1486116641609917</td>\n      <td>KABULETA ALEETA SENTE 2021</td>\n      <td>2</td>\n    </tr>\n    <tr>\n      <th>8</th>\n      <td>NaN</td>\n      <td>3265</td>\n      <td>13</td>\n      <td>21436</td>\n      <td>105583497196</td>\n      <td>Bizonto, popular culture and politics of the d...</td>\n      <td>2</td>\n    </tr>\n    <tr>\n      <th>9</th>\n      <td>NaN</td>\n      <td>3266</td>\n      <td>12</td>\n      <td>21454</td>\n      <td>274577061337</td>\n      <td>Learning From Dr. Patrick Bitature | Episode 1</td>\n      <td>2</td>\n    </tr>\n  </tbody>\n</table>\n</div>"
     },
     "metadata": {},
     "execution_count": 2
    }
   ],
   "source": [
    "annotated_posts = pd.read_csv('../data/CrowdTangle-annotated-posts.csv')\n",
    "annotated_posts.head(10)"
   ]
  },
  {
   "cell_type": "markdown",
   "metadata": {},
   "source": [
    "### Convert annotation label column (`label`) to categorical column type"
   ]
  },
  {
   "cell_type": "code",
   "execution_count": 3,
   "metadata": {},
   "outputs": [
    {
     "output_type": "execute_result",
     "data": {
      "text/plain": "0       12\n1       12\n2       12\n3       12\n4       12\n        ..\n4996    14\n4997    12\n4998    13\n4999    13\n5000    13\nName: category, Length: 5001, dtype: category\nCategories (3, int64): [12, 13, 14]"
     },
     "metadata": {},
     "execution_count": 3
    }
   ],
   "source": [
    "annotated_posts['category'] = annotated_posts['label'].astype('category')\n",
    "annotated_posts['category']"
   ]
  },
  {
   "cell_type": "code",
   "execution_count": 4,
   "metadata": {},
   "outputs": [
    {
     "output_type": "execute_result",
     "data": {
      "text/plain": "  annotation_approver    id  label   meta  meta.Facebook Id  \\\n0                 NaN  3262     12  21421      274577061337   \n1                 NaN  3517     12  23805  1681786142107330   \n2                 NaN  3518     12  23811  1681786142107330   \n3                 NaN  3869     12  27335  1681786142107330   \n4                 NaN  3870     12  27373      274577061337   \n5                 NaN  4138     14  30424  1681786142107330   \n6                 NaN  3263     13  21423      329423169077   \n7                 NaN  3264     12  21425  1486116641609917   \n8                 NaN  3265     13  21436      105583497196   \n9                 NaN  3266     12  21454      274577061337   \n\n                                                text  user     category  \n0                               Defence and excuses!     7      Organic  \n1                                  PEOPLE POWER/ NUP     2      Organic  \n2                               MR .UPDATE MP TO BE.     7      Organic  \n3                                   Permit to sing 🎶     7      Organic  \n4                DONALD J. TRUMP HAS GONE BONKERS!!!     7      Organic  \n5                    Food Grade Packaging Paper Bags     2  Promotional  \n6  Celebrating 70 years of Formula One 🗞️ Story i...     2    Editorial  \n7                         KABULETA ALEETA SENTE 2021     2      Organic  \n8  Bizonto, popular culture and politics of the d...     2    Editorial  \n9     Learning From Dr. Patrick Bitature | Episode 1     2      Organic  ",
      "text/html": "<div>\n<style scoped>\n    .dataframe tbody tr th:only-of-type {\n        vertical-align: middle;\n    }\n\n    .dataframe tbody tr th {\n        vertical-align: top;\n    }\n\n    .dataframe thead th {\n        text-align: right;\n    }\n</style>\n<table border=\"1\" class=\"dataframe\">\n  <thead>\n    <tr style=\"text-align: right;\">\n      <th></th>\n      <th>annotation_approver</th>\n      <th>id</th>\n      <th>label</th>\n      <th>meta</th>\n      <th>meta.Facebook Id</th>\n      <th>text</th>\n      <th>user</th>\n      <th>category</th>\n    </tr>\n  </thead>\n  <tbody>\n    <tr>\n      <th>0</th>\n      <td>NaN</td>\n      <td>3262</td>\n      <td>12</td>\n      <td>21421</td>\n      <td>274577061337</td>\n      <td>Defence and excuses!</td>\n      <td>7</td>\n      <td>Organic</td>\n    </tr>\n    <tr>\n      <th>1</th>\n      <td>NaN</td>\n      <td>3517</td>\n      <td>12</td>\n      <td>23805</td>\n      <td>1681786142107330</td>\n      <td>PEOPLE POWER/ NUP</td>\n      <td>2</td>\n      <td>Organic</td>\n    </tr>\n    <tr>\n      <th>2</th>\n      <td>NaN</td>\n      <td>3518</td>\n      <td>12</td>\n      <td>23811</td>\n      <td>1681786142107330</td>\n      <td>MR .UPDATE MP TO BE.</td>\n      <td>7</td>\n      <td>Organic</td>\n    </tr>\n    <tr>\n      <th>3</th>\n      <td>NaN</td>\n      <td>3869</td>\n      <td>12</td>\n      <td>27335</td>\n      <td>1681786142107330</td>\n      <td>Permit to sing 🎶</td>\n      <td>7</td>\n      <td>Organic</td>\n    </tr>\n    <tr>\n      <th>4</th>\n      <td>NaN</td>\n      <td>3870</td>\n      <td>12</td>\n      <td>27373</td>\n      <td>274577061337</td>\n      <td>DONALD J. TRUMP HAS GONE BONKERS!!!</td>\n      <td>7</td>\n      <td>Organic</td>\n    </tr>\n    <tr>\n      <th>5</th>\n      <td>NaN</td>\n      <td>4138</td>\n      <td>14</td>\n      <td>30424</td>\n      <td>1681786142107330</td>\n      <td>Food Grade Packaging Paper Bags</td>\n      <td>2</td>\n      <td>Promotional</td>\n    </tr>\n    <tr>\n      <th>6</th>\n      <td>NaN</td>\n      <td>3263</td>\n      <td>13</td>\n      <td>21423</td>\n      <td>329423169077</td>\n      <td>Celebrating 70 years of Formula One 🗞️ Story i...</td>\n      <td>2</td>\n      <td>Editorial</td>\n    </tr>\n    <tr>\n      <th>7</th>\n      <td>NaN</td>\n      <td>3264</td>\n      <td>12</td>\n      <td>21425</td>\n      <td>1486116641609917</td>\n      <td>KABULETA ALEETA SENTE 2021</td>\n      <td>2</td>\n      <td>Organic</td>\n    </tr>\n    <tr>\n      <th>8</th>\n      <td>NaN</td>\n      <td>3265</td>\n      <td>13</td>\n      <td>21436</td>\n      <td>105583497196</td>\n      <td>Bizonto, popular culture and politics of the d...</td>\n      <td>2</td>\n      <td>Editorial</td>\n    </tr>\n    <tr>\n      <th>9</th>\n      <td>NaN</td>\n      <td>3266</td>\n      <td>12</td>\n      <td>21454</td>\n      <td>274577061337</td>\n      <td>Learning From Dr. Patrick Bitature | Episode 1</td>\n      <td>2</td>\n      <td>Organic</td>\n    </tr>\n  </tbody>\n</table>\n</div>"
     },
     "metadata": {},
     "execution_count": 4
    }
   ],
   "source": [
    "annotated_posts['category'].cat.categories = ['Organic', 'Editorial', 'Promotional']\n",
    "annotated_posts.head(10)"
   ]
  },
  {
   "cell_type": "markdown",
   "metadata": {},
   "source": [
    "### Drop unnecessary columns"
   ]
  },
  {
   "cell_type": "code",
   "execution_count": 5,
   "metadata": {},
   "outputs": [
    {
     "output_type": "execute_result",
     "data": {
      "text/plain": "     id                                               text     category\n0  3262                               Defence and excuses!      Organic\n1  3517                                  PEOPLE POWER/ NUP      Organic\n2  3518                               MR .UPDATE MP TO BE.      Organic\n3  3869                                   Permit to sing 🎶      Organic\n4  3870                DONALD J. TRUMP HAS GONE BONKERS!!!      Organic\n5  4138                    Food Grade Packaging Paper Bags  Promotional\n6  3263  Celebrating 70 years of Formula One 🗞️ Story i...    Editorial\n7  3264                         KABULETA ALEETA SENTE 2021      Organic\n8  3265  Bizonto, popular culture and politics of the d...    Editorial\n9  3266     Learning From Dr. Patrick Bitature | Episode 1      Organic",
      "text/html": "<div>\n<style scoped>\n    .dataframe tbody tr th:only-of-type {\n        vertical-align: middle;\n    }\n\n    .dataframe tbody tr th {\n        vertical-align: top;\n    }\n\n    .dataframe thead th {\n        text-align: right;\n    }\n</style>\n<table border=\"1\" class=\"dataframe\">\n  <thead>\n    <tr style=\"text-align: right;\">\n      <th></th>\n      <th>id</th>\n      <th>text</th>\n      <th>category</th>\n    </tr>\n  </thead>\n  <tbody>\n    <tr>\n      <th>0</th>\n      <td>3262</td>\n      <td>Defence and excuses!</td>\n      <td>Organic</td>\n    </tr>\n    <tr>\n      <th>1</th>\n      <td>3517</td>\n      <td>PEOPLE POWER/ NUP</td>\n      <td>Organic</td>\n    </tr>\n    <tr>\n      <th>2</th>\n      <td>3518</td>\n      <td>MR .UPDATE MP TO BE.</td>\n      <td>Organic</td>\n    </tr>\n    <tr>\n      <th>3</th>\n      <td>3869</td>\n      <td>Permit to sing 🎶</td>\n      <td>Organic</td>\n    </tr>\n    <tr>\n      <th>4</th>\n      <td>3870</td>\n      <td>DONALD J. TRUMP HAS GONE BONKERS!!!</td>\n      <td>Organic</td>\n    </tr>\n    <tr>\n      <th>5</th>\n      <td>4138</td>\n      <td>Food Grade Packaging Paper Bags</td>\n      <td>Promotional</td>\n    </tr>\n    <tr>\n      <th>6</th>\n      <td>3263</td>\n      <td>Celebrating 70 years of Formula One 🗞️ Story i...</td>\n      <td>Editorial</td>\n    </tr>\n    <tr>\n      <th>7</th>\n      <td>3264</td>\n      <td>KABULETA ALEETA SENTE 2021</td>\n      <td>Organic</td>\n    </tr>\n    <tr>\n      <th>8</th>\n      <td>3265</td>\n      <td>Bizonto, popular culture and politics of the d...</td>\n      <td>Editorial</td>\n    </tr>\n    <tr>\n      <th>9</th>\n      <td>3266</td>\n      <td>Learning From Dr. Patrick Bitature | Episode 1</td>\n      <td>Organic</td>\n    </tr>\n  </tbody>\n</table>\n</div>"
     },
     "metadata": {},
     "execution_count": 5
    }
   ],
   "source": [
    "final_df = annotated_posts[['id', 'text', 'category']]\n",
    "final_df.head(10)"
   ]
  },
  {
   "cell_type": "code",
   "execution_count": 6,
   "metadata": {},
   "outputs": [],
   "source": [
    "final_df.to_csv('Crowdtangle-dataset-for-ml.csv')"
   ]
  },
  {
   "cell_type": "markdown",
   "metadata": {},
   "source": [
    "## Reannotation (covid/non-covid)"
   ]
  },
  {
   "cell_type": "markdown",
   "metadata": {},
   "source": [
    "### Prepare dataset for re-annotating (covid/non-covid categories)"
   ]
  },
  {
   "cell_type": "code",
   "execution_count": 9,
   "metadata": {
    "tags": []
   },
   "outputs": [
    {
     "output_type": "execute_result",
     "data": {
      "text/plain": "     id                                 text category label\n0  3262                 Defence and excuses!  Organic      \n1  3517                    PEOPLE POWER/ NUP  Organic      \n2  3518                 MR .UPDATE MP TO BE.  Organic      \n3  3869                     Permit to sing 🎶  Organic      \n4  3870  DONALD J. TRUMP HAS GONE BONKERS!!!  Organic      ",
      "text/html": "<div>\n<style scoped>\n    .dataframe tbody tr th:only-of-type {\n        vertical-align: middle;\n    }\n\n    .dataframe tbody tr th {\n        vertical-align: top;\n    }\n\n    .dataframe thead th {\n        text-align: right;\n    }\n</style>\n<table border=\"1\" class=\"dataframe\">\n  <thead>\n    <tr style=\"text-align: right;\">\n      <th></th>\n      <th>id</th>\n      <th>text</th>\n      <th>category</th>\n      <th>label</th>\n    </tr>\n  </thead>\n  <tbody>\n    <tr>\n      <th>0</th>\n      <td>3262</td>\n      <td>Defence and excuses!</td>\n      <td>Organic</td>\n      <td></td>\n    </tr>\n    <tr>\n      <th>1</th>\n      <td>3517</td>\n      <td>PEOPLE POWER/ NUP</td>\n      <td>Organic</td>\n      <td></td>\n    </tr>\n    <tr>\n      <th>2</th>\n      <td>3518</td>\n      <td>MR .UPDATE MP TO BE.</td>\n      <td>Organic</td>\n      <td></td>\n    </tr>\n    <tr>\n      <th>3</th>\n      <td>3869</td>\n      <td>Permit to sing 🎶</td>\n      <td>Organic</td>\n      <td></td>\n    </tr>\n    <tr>\n      <th>4</th>\n      <td>3870</td>\n      <td>DONALD J. TRUMP HAS GONE BONKERS!!!</td>\n      <td>Organic</td>\n      <td></td>\n    </tr>\n  </tbody>\n</table>\n</div>"
     },
     "metadata": {},
     "execution_count": 9
    }
   ],
   "source": [
    "final_df['label'] = ''\n",
    "final_df.head()"
   ]
  },
  {
   "cell_type": "code",
   "execution_count": 10,
   "metadata": {},
   "outputs": [
    {
     "output_type": "execute_result",
     "data": {
      "text/plain": "(5001, 4)"
     },
     "metadata": {},
     "execution_count": 10
    }
   ],
   "source": [
    "final_df.shape"
   ]
  },
  {
   "cell_type": "code",
   "execution_count": 11,
   "metadata": {},
   "outputs": [],
   "source": [
    "final_df.to_csv('Crowdtangle-dataset-for-reannotation')"
   ]
  },
  {
   "cell_type": "markdown",
   "metadata": {},
   "source": [
    "### Post annotation"
   ]
  },
  {
   "cell_type": "code",
   "execution_count": 3,
   "metadata": {},
   "outputs": [],
   "source": [
    "posts = pd.read_csv('../data/CrowdTangle-annotated-covid-posts.csv')"
   ]
  },
  {
   "cell_type": "code",
   "execution_count": 5,
   "metadata": {},
   "outputs": [
    {
     "output_type": "execute_result",
     "data": {
      "text/plain": "      annotation_approver     id  label  meta meta.category  meta.id  \\\n1392                  NaN  10379     57  1387       Organic     4490   \n865                   NaN   9850     57   858       Organic     3954   \n1873                  NaN  10859     56  1867     Editorial     4968   \n4056                  NaN  13040     57  4048       Organic     7154   \n4419                  NaN  13401     57  4409     Editorial     7514   \n\n                                                   text  user  \n1392  JOHN HUME, CONSIDERED THE GREATEST PEACE MAKER...     7  \n865   WHAT DO YOU THINK BOBI WINE HAVE?? MAGICALLY ?...     7  \n1873  The titular head of the Muslim community Princ...     7  \n4056                                                UAE     2  \n4419  Police arrest 32 for watching Arsenal vs Liver...     2  ",
      "text/html": "<div>\n<style scoped>\n    .dataframe tbody tr th:only-of-type {\n        vertical-align: middle;\n    }\n\n    .dataframe tbody tr th {\n        vertical-align: top;\n    }\n\n    .dataframe thead th {\n        text-align: right;\n    }\n</style>\n<table border=\"1\" class=\"dataframe\">\n  <thead>\n    <tr style=\"text-align: right;\">\n      <th></th>\n      <th>annotation_approver</th>\n      <th>id</th>\n      <th>label</th>\n      <th>meta</th>\n      <th>meta.category</th>\n      <th>meta.id</th>\n      <th>text</th>\n      <th>user</th>\n    </tr>\n  </thead>\n  <tbody>\n    <tr>\n      <th>1392</th>\n      <td>NaN</td>\n      <td>10379</td>\n      <td>57</td>\n      <td>1387</td>\n      <td>Organic</td>\n      <td>4490</td>\n      <td>JOHN HUME, CONSIDERED THE GREATEST PEACE MAKER...</td>\n      <td>7</td>\n    </tr>\n    <tr>\n      <th>865</th>\n      <td>NaN</td>\n      <td>9850</td>\n      <td>57</td>\n      <td>858</td>\n      <td>Organic</td>\n      <td>3954</td>\n      <td>WHAT DO YOU THINK BOBI WINE HAVE?? MAGICALLY ?...</td>\n      <td>7</td>\n    </tr>\n    <tr>\n      <th>1873</th>\n      <td>NaN</td>\n      <td>10859</td>\n      <td>56</td>\n      <td>1867</td>\n      <td>Editorial</td>\n      <td>4968</td>\n      <td>The titular head of the Muslim community Princ...</td>\n      <td>7</td>\n    </tr>\n    <tr>\n      <th>4056</th>\n      <td>NaN</td>\n      <td>13040</td>\n      <td>57</td>\n      <td>4048</td>\n      <td>Organic</td>\n      <td>7154</td>\n      <td>UAE</td>\n      <td>2</td>\n    </tr>\n    <tr>\n      <th>4419</th>\n      <td>NaN</td>\n      <td>13401</td>\n      <td>57</td>\n      <td>4409</td>\n      <td>Editorial</td>\n      <td>7514</td>\n      <td>Police arrest 32 for watching Arsenal vs Liver...</td>\n      <td>2</td>\n    </tr>\n  </tbody>\n</table>\n</div>"
     },
     "metadata": {},
     "execution_count": 5
    }
   ],
   "source": [
    "posts.sample(5)"
   ]
  },
  {
   "cell_type": "markdown",
   "metadata": {},
   "source": [
    "### Remove duplicate text"
   ]
  },
  {
   "cell_type": "code",
   "execution_count": 7,
   "metadata": {},
   "outputs": [],
   "source": [
    "deduplicated = posts.drop_duplicates(subset='text')"
   ]
  },
  {
   "cell_type": "code",
   "execution_count": 9,
   "metadata": {},
   "outputs": [
    {
     "output_type": "execute_result",
     "data": {
      "text/plain": "annotation_approver       0\nid                     4521\nlabel                  4521\nmeta                   4521\nmeta.category          4521\nmeta.id                4521\ntext                   4521\nuser                   4521\ndtype: int64"
     },
     "metadata": {},
     "execution_count": 9
    }
   ],
   "source": [
    "deduplicated.count()"
   ]
  },
  {
   "cell_type": "markdown",
   "metadata": {},
   "source": [
    "### Remove URLs"
   ]
  },
  {
   "cell_type": "code",
   "execution_count": null,
   "metadata": {},
   "outputs": [],
   "source": []
  }
 ],
 "metadata": {
  "kernelspec": {
   "display_name": "Python 3",
   "language": "python",
   "name": "python3"
  },
  "language_info": {
   "codemirror_mode": {
    "name": "ipython",
    "version": 3
   },
   "file_extension": ".py",
   "mimetype": "text/x-python",
   "name": "python",
   "nbconvert_exporter": "python",
   "pygments_lexer": "ipython3",
   "version": "3.6.10-final"
  }
 },
 "nbformat": 4,
 "nbformat_minor": 4
}