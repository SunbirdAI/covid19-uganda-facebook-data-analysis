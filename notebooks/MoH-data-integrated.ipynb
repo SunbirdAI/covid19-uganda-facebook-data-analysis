{
 "cells": [
  {
   "cell_type": "markdown",
   "metadata": {},
   "source": [
    "## Aggregation of the different MoH CrowdTangle datasets that are fetched and analyzed bi-weekly"
   ]
  },
  {
   "cell_type": "code",
   "execution_count": 1,
   "metadata": {},
   "outputs": [],
   "source": [
    "import pandas as pd\n",
    "from pathlib import Path"
   ]
  },
  {
   "cell_type": "markdown",
   "metadata": {},
   "source": [
    "### Define the paths to the folders containing MoH datasets"
   ]
  },
  {
   "cell_type": "code",
   "execution_count": 2,
   "metadata": {
    "tags": []
   },
   "outputs": [],
   "source": [
    "data_folder = Path('../data')\n",
    "moh_data_folder = data_folder.joinpath('MoH-text-for-classification')"
   ]
  },
  {
   "cell_type": "markdown",
   "metadata": {},
   "source": [
    "### Read and append the datasets into one dataframe"
   ]
  },
  {
   "cell_type": "code",
   "execution_count": 3,
   "metadata": {
    "tags": []
   },
   "outputs": [
    {
     "output_type": "stream",
     "name": "stdout",
     "text": "../data/MoH-text-for-classification/MoH-posts-text-2.csv: text        44\ncategory    44\ndtype: int64 rows\n../data/MoH-text-for-classification/MoH-posts-text-1.csv: text        51\ncategory    51\ndtype: int64 rows\n../data/MoH-text-for-classification/MoH-posts-text-3.csv: text        25\ncategory    25\ndtype: int64 rows\n../data/MoH-text-for-classification/MoH-posts-text-4.csv: text        39\ncategory    39\ndtype: int64 rows\n"
    },
    {
     "output_type": "execute_result",
     "data": {
      "text/plain": "                                                  text  \\\n0    The COVID-19 response has been boosted with an...   \n1    Results of COVID-19 tests done on 21 September...   \n2                                         #YambalaMask   \n3    Results of COVID-19 tests done on 20 September...   \n4    The Permanent Secretary, Dr. Diana Atwine and ...   \n..                                                 ...   \n154  Results from COVID-19 tests done on 08 October...   \n155       Happy Independence Day, #Uganda. #UgandaAt58   \n156  Results of COVID-19 tests done on 07 October,2...   \n157  As part of their Independence Day celebrations...   \n158  The COVID-19 response has been boosted with 5 ...   \n\n                      category  \n0      Other COVID information  \n1    New COVID cases or deaths  \n2      Other COVID information  \n3    New COVID cases or deaths  \n4        Non-COVID information  \n..                         ...  \n154  New COVID cases or deaths  \n155      Non-COVID information  \n156  New COVID cases or deaths  \n157    Other COVID information  \n158    Other COVID information  \n\n[159 rows x 2 columns]",
      "text/html": "<div>\n<style scoped>\n    .dataframe tbody tr th:only-of-type {\n        vertical-align: middle;\n    }\n\n    .dataframe tbody tr th {\n        vertical-align: top;\n    }\n\n    .dataframe thead th {\n        text-align: right;\n    }\n</style>\n<table border=\"1\" class=\"dataframe\">\n  <thead>\n    <tr style=\"text-align: right;\">\n      <th></th>\n      <th>text</th>\n      <th>category</th>\n    </tr>\n  </thead>\n  <tbody>\n    <tr>\n      <th>0</th>\n      <td>The COVID-19 response has been boosted with an...</td>\n      <td>Other COVID information</td>\n    </tr>\n    <tr>\n      <th>1</th>\n      <td>Results of COVID-19 tests done on 21 September...</td>\n      <td>New COVID cases or deaths</td>\n    </tr>\n    <tr>\n      <th>2</th>\n      <td>#YambalaMask</td>\n      <td>Other COVID information</td>\n    </tr>\n    <tr>\n      <th>3</th>\n      <td>Results of COVID-19 tests done on 20 September...</td>\n      <td>New COVID cases or deaths</td>\n    </tr>\n    <tr>\n      <th>4</th>\n      <td>The Permanent Secretary, Dr. Diana Atwine and ...</td>\n      <td>Non-COVID information</td>\n    </tr>\n    <tr>\n      <th>...</th>\n      <td>...</td>\n      <td>...</td>\n    </tr>\n    <tr>\n      <th>154</th>\n      <td>Results from COVID-19 tests done on 08 October...</td>\n      <td>New COVID cases or deaths</td>\n    </tr>\n    <tr>\n      <th>155</th>\n      <td>Happy Independence Day, #Uganda. #UgandaAt58</td>\n      <td>Non-COVID information</td>\n    </tr>\n    <tr>\n      <th>156</th>\n      <td>Results of COVID-19 tests done on 07 October,2...</td>\n      <td>New COVID cases or deaths</td>\n    </tr>\n    <tr>\n      <th>157</th>\n      <td>As part of their Independence Day celebrations...</td>\n      <td>Other COVID information</td>\n    </tr>\n    <tr>\n      <th>158</th>\n      <td>The COVID-19 response has been boosted with 5 ...</td>\n      <td>Other COVID information</td>\n    </tr>\n  </tbody>\n</table>\n<p>159 rows × 2 columns</p>\n</div>"
     },
     "metadata": {},
     "execution_count": 3
    }
   ],
   "source": [
    "posts = pd.DataFrame(columns = ['text', 'category'])\n",
    "\n",
    "for entry in moh_data_folder.iterdir():\n",
    "    file_path = moh_data_folder.joinpath(entry.name)\n",
    "    p = pd.read_csv(file_path, index_col=[0])\n",
    "    print(f'{file_path}: {p.count()} rows')\n",
    "    posts = posts.append(p, ignore_index=True)\n",
    "\n",
    "posts"
   ]
  },
  {
   "cell_type": "markdown",
   "metadata": {},
   "source": [
    "### Quick sample of a few of the rows"
   ]
  },
  {
   "cell_type": "code",
   "execution_count": 4,
   "metadata": {},
   "outputs": [
    {
     "output_type": "execute_result",
     "data": {
      "text/plain": "                                                 text  \\\n77  Results from COVID-19 tests done on 13 August,...   \n70  Results from COVID-19 tests done on 11 August ...   \n85  Results from COVID-19 tests done on 28 August ...   \n15  Results of COVID-19 tests done on 15 September...   \n1   Results of COVID-19 tests done on 21 September...   \n\n                     category  \n77  New COVID cases or deaths  \n70  New COVID cases or deaths  \n85  New COVID cases or deaths  \n15  New COVID cases or deaths  \n1   New COVID cases or deaths  ",
      "text/html": "<div>\n<style scoped>\n    .dataframe tbody tr th:only-of-type {\n        vertical-align: middle;\n    }\n\n    .dataframe tbody tr th {\n        vertical-align: top;\n    }\n\n    .dataframe thead th {\n        text-align: right;\n    }\n</style>\n<table border=\"1\" class=\"dataframe\">\n  <thead>\n    <tr style=\"text-align: right;\">\n      <th></th>\n      <th>text</th>\n      <th>category</th>\n    </tr>\n  </thead>\n  <tbody>\n    <tr>\n      <th>77</th>\n      <td>Results from COVID-19 tests done on 13 August,...</td>\n      <td>New COVID cases or deaths</td>\n    </tr>\n    <tr>\n      <th>70</th>\n      <td>Results from COVID-19 tests done on 11 August ...</td>\n      <td>New COVID cases or deaths</td>\n    </tr>\n    <tr>\n      <th>85</th>\n      <td>Results from COVID-19 tests done on 28 August ...</td>\n      <td>New COVID cases or deaths</td>\n    </tr>\n    <tr>\n      <th>15</th>\n      <td>Results of COVID-19 tests done on 15 September...</td>\n      <td>New COVID cases or deaths</td>\n    </tr>\n    <tr>\n      <th>1</th>\n      <td>Results of COVID-19 tests done on 21 September...</td>\n      <td>New COVID cases or deaths</td>\n    </tr>\n  </tbody>\n</table>\n</div>"
     },
     "metadata": {},
     "execution_count": 4
    }
   ],
   "source": [
    "posts.sample(5)"
   ]
  },
  {
   "cell_type": "markdown",
   "metadata": {},
   "source": [
    "### Convert the aggregated dataframe to a csv"
   ]
  },
  {
   "cell_type": "code",
   "execution_count": 5,
   "metadata": {},
   "outputs": [],
   "source": [
    "posts.to_csv(data_folder.joinpath('MoH-aggregated-dataset-for-text-classification.csv'))"
   ]
  }
 ],
 "metadata": {
  "kernelspec": {
   "display_name": "Python 3",
   "language": "python",
   "name": "python3"
  },
  "language_info": {
   "codemirror_mode": {
    "name": "ipython",
    "version": 3
   },
   "file_extension": ".py",
   "mimetype": "text/x-python",
   "name": "python",
   "nbconvert_exporter": "python",
   "pygments_lexer": "ipython3",
   "version": "3.6.10-final"
  }
 },
 "nbformat": 4,
 "nbformat_minor": 2
}