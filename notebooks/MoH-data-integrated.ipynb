{
 "cells": [
  {
   "cell_type": "code",
   "execution_count": 2,
   "metadata": {},
   "outputs": [],
   "source": [
    "import pandas as pd"
   ]
  },
  {
   "cell_type": "code",
   "execution_count": 14,
   "metadata": {},
   "outputs": [],
   "source": [
    "posts_1 = pd.read_csv('../data/MoH-posts-text-1.csv', index_col=[0])\n",
    "posts_2 = pd.read_csv('../data/MoH-posts-text-2.csv', index_col=[0])\n",
    "posts_3 = pd.read_csv('../data/MoH-posts-text-3.csv', index_col=[0])"
   ]
  },
  {
   "cell_type": "code",
   "execution_count": 17,
   "metadata": {},
   "outputs": [
    {
     "data": {
      "text/plain": [
       "(                                                 text  \\\n",
       " 49  A single episode of Malaria costs a family an ...   \n",
       " 23  Always #WearAMask when in public to prevent CO...   \n",
       " 15  Results of COVID-19 tests done on 19 August 20...   \n",
       " \n",
       "                      category  \n",
       " 49      Non-COVID information  \n",
       " 23    Other COVID information  \n",
       " 15  New COVID cases or deaths  ,\n",
       "                                                  text                 category\n",
       " 38  To address the high teenage pregnancy rate of ...    Non-COVID information\n",
       " 4   The Permanent Secretary, Dr. Diana Atwine and ...    Non-COVID information\n",
       " 32  Wearing a face mask when in public can help yo...  Other COVID information,\n",
       "                                                  text  \\\n",
       " 18  The Permanent Secretary, Dr. Diana Atwine laun...   \n",
       " 13  The Government of the Republic of Korea has do...   \n",
       " 3   Results from COVID-19 tests done on 04 October...   \n",
       " \n",
       "                      category  \n",
       " 18      Non-COVID information  \n",
       " 13    Other COVID information  \n",
       " 3   New COVID cases or deaths  )"
      ]
     },
     "execution_count": 17,
     "metadata": {},
     "output_type": "execute_result"
    }
   ],
   "source": [
    "posts_1.sample(3), posts_2.sample(3), posts_3.sample(3)"
   ]
  },
  {
   "cell_type": "code",
   "execution_count": 19,
   "metadata": {},
   "outputs": [],
   "source": [
    "posts = pd.concat([posts_1, posts_2, posts_3], sort=False) "
   ]
  },
  {
   "cell_type": "code",
   "execution_count": 20,
   "metadata": {},
   "outputs": [
    {
     "data": {
      "text/html": [
       "<div>\n",
       "<style scoped>\n",
       "    .dataframe tbody tr th:only-of-type {\n",
       "        vertical-align: middle;\n",
       "    }\n",
       "\n",
       "    .dataframe tbody tr th {\n",
       "        vertical-align: top;\n",
       "    }\n",
       "\n",
       "    .dataframe thead th {\n",
       "        text-align: right;\n",
       "    }\n",
       "</style>\n",
       "<table border=\"1\" class=\"dataframe\">\n",
       "  <thead>\n",
       "    <tr style=\"text-align: right;\">\n",
       "      <th></th>\n",
       "      <th>text</th>\n",
       "      <th>category</th>\n",
       "    </tr>\n",
       "  </thead>\n",
       "  <tbody>\n",
       "    <tr>\n",
       "      <th>0</th>\n",
       "      <td>COVID-19 has impacted our lives in various way...</td>\n",
       "      <td>Other COVID information</td>\n",
       "    </tr>\n",
       "    <tr>\n",
       "      <th>1</th>\n",
       "      <td>The President of Uganda, His Excellency, Yower...</td>\n",
       "      <td>Other COVID information</td>\n",
       "    </tr>\n",
       "    <tr>\n",
       "      <th>2</th>\n",
       "      <td>The Minister of Health, Dr. Jane Ruth Aceng Oc...</td>\n",
       "      <td>Other COVID information</td>\n",
       "    </tr>\n",
       "    <tr>\n",
       "      <th>3</th>\n",
       "      <td>Continuous sensitization of leaders and commun...</td>\n",
       "      <td>Other COVID information</td>\n",
       "    </tr>\n",
       "    <tr>\n",
       "      <th>4</th>\n",
       "      <td>Other information (covid)</td>\n",
       "      <td>Other COVID information</td>\n",
       "    </tr>\n",
       "    <tr>\n",
       "      <th>...</th>\n",
       "      <td>...</td>\n",
       "      <td>...</td>\n",
       "    </tr>\n",
       "    <tr>\n",
       "      <th>20</th>\n",
       "      <td>The Prime Minister, Rt. Hon. Dr Ruhakana Rugun...</td>\n",
       "      <td>Non-COVID information</td>\n",
       "    </tr>\n",
       "    <tr>\n",
       "      <th>21</th>\n",
       "      <td>Results of COVID-19 tests done on 23 September...</td>\n",
       "      <td>New COVID cases or deaths</td>\n",
       "    </tr>\n",
       "    <tr>\n",
       "      <th>22</th>\n",
       "      <td>“Mistrust and disinformation put health and li...</td>\n",
       "      <td>Other COVID information</td>\n",
       "    </tr>\n",
       "    <tr>\n",
       "      <th>23</th>\n",
       "      <td>Accelerating Uganda's TB Response. Join the co...</td>\n",
       "      <td>Non-COVID information</td>\n",
       "    </tr>\n",
       "    <tr>\n",
       "      <th>24</th>\n",
       "      <td>Tuberculosis remains a major public health pro...</td>\n",
       "      <td>Non-COVID information</td>\n",
       "    </tr>\n",
       "  </tbody>\n",
       "</table>\n",
       "<p>120 rows × 2 columns</p>\n",
       "</div>"
      ],
      "text/plain": [
       "                                                 text  \\\n",
       "0   COVID-19 has impacted our lives in various way...   \n",
       "1   The President of Uganda, His Excellency, Yower...   \n",
       "2   The Minister of Health, Dr. Jane Ruth Aceng Oc...   \n",
       "3   Continuous sensitization of leaders and commun...   \n",
       "4                           Other information (covid)   \n",
       "..                                                ...   \n",
       "20  The Prime Minister, Rt. Hon. Dr Ruhakana Rugun...   \n",
       "21  Results of COVID-19 tests done on 23 September...   \n",
       "22  “Mistrust and disinformation put health and li...   \n",
       "23  Accelerating Uganda's TB Response. Join the co...   \n",
       "24  Tuberculosis remains a major public health pro...   \n",
       "\n",
       "                     category  \n",
       "0     Other COVID information  \n",
       "1     Other COVID information  \n",
       "2     Other COVID information  \n",
       "3     Other COVID information  \n",
       "4     Other COVID information  \n",
       "..                        ...  \n",
       "20      Non-COVID information  \n",
       "21  New COVID cases or deaths  \n",
       "22    Other COVID information  \n",
       "23      Non-COVID information  \n",
       "24      Non-COVID information  \n",
       "\n",
       "[120 rows x 2 columns]"
      ]
     },
     "execution_count": 20,
     "metadata": {},
     "output_type": "execute_result"
    }
   ],
   "source": [
    "posts"
   ]
  },
  {
   "cell_type": "code",
   "execution_count": 21,
   "metadata": {},
   "outputs": [],
   "source": [
    "posts.to_csv('MoH-aggregated-dataset-for-text-classification.csv')"
   ]
  },
  {
   "cell_type": "code",
   "execution_count": null,
   "metadata": {},
   "outputs": [],
   "source": []
  }
 ],
 "metadata": {
  "kernelspec": {
   "display_name": "Python 3",
   "language": "python",
   "name": "python3"
  },
  "language_info": {
   "codemirror_mode": {
    "name": "ipython",
    "version": 3
   },
   "file_extension": ".py",
   "mimetype": "text/x-python",
   "name": "python",
   "nbconvert_exporter": "python",
   "pygments_lexer": "ipython3",
   "version": "3.6.10"
  }
 },
 "nbformat": 4,
 "nbformat_minor": 2
}
