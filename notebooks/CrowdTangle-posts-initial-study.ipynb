{
 "cells": [
  {
   "cell_type": "markdown",
   "metadata": {},
   "source": [
    "## Notebook to study the contents of the CrowdTangle posts historical dataset"
   ]
  },
  {
   "cell_type": "code",
   "execution_count": 1,
   "metadata": {},
   "outputs": [],
   "source": [
    "import pandas as pd"
   ]
  },
  {
   "cell_type": "code",
   "execution_count": 2,
   "metadata": {},
   "outputs": [
    {
     "name": "stderr",
     "output_type": "stream",
     "text": [
      "/home/lydia/anaconda3/envs/py36/lib/python3.6/site-packages/IPython/core/interactiveshell.py:3063: DtypeWarning: Columns (29) have mixed types.Specify dtype option on import or set low_memory=False.\n",
      "  interactivity=interactivity, compiler=compiler, result=result)\n"
     ]
    }
   ],
   "source": [
    "posts = pd.read_csv('../data/2020-08-19-12-13-18-EAT-Historical-Report-1970-01-01--2020-08-19.csv')"
   ]
  },
  {
   "cell_type": "markdown",
   "metadata": {},
   "source": [
    "### Find out all the columns the dataset contains"
   ]
  },
  {
   "cell_type": "code",
   "execution_count": 3,
   "metadata": {},
   "outputs": [
    {
     "data": {
      "text/plain": [
       "Index(['Page Name', 'User Name', 'Facebook Id', 'Likes at Posting', 'Created',\n",
       "       'Type', 'Likes', 'Comments', 'Shares', 'Love', 'Wow', 'Haha', 'Sad',\n",
       "       'Angry', 'Care', 'Video Share Status', 'Post Views', 'Total Views',\n",
       "       'Total Views For All Crossposts', 'Video Length', 'URL', 'Message',\n",
       "       'Link', 'Final Link', 'Image Text', 'Link Text', 'Description',\n",
       "       'Sponsor Id', 'Sponsor Name', 'Overperforming Score'],\n",
       "      dtype='object')"
      ]
     },
     "execution_count": 3,
     "metadata": {},
     "output_type": "execute_result"
    }
   ],
   "source": [
    "posts.columns"
   ]
  },
  {
   "cell_type": "markdown",
   "metadata": {},
   "source": [
    "### Compare the `Message` and `Description` columns to find which one contains useful text"
   ]
  },
  {
   "cell_type": "code",
   "execution_count": 4,
   "metadata": {},
   "outputs": [
    {
     "data": {
      "text/html": [
       "<div>\n",
       "<style scoped>\n",
       "    .dataframe tbody tr th:only-of-type {\n",
       "        vertical-align: middle;\n",
       "    }\n",
       "\n",
       "    .dataframe tbody tr th {\n",
       "        vertical-align: top;\n",
       "    }\n",
       "\n",
       "    .dataframe thead th {\n",
       "        text-align: right;\n",
       "    }\n",
       "</style>\n",
       "<table border=\"1\" class=\"dataframe\">\n",
       "  <thead>\n",
       "    <tr style=\"text-align: right;\">\n",
       "      <th></th>\n",
       "      <th>Type</th>\n",
       "      <th>Message</th>\n",
       "      <th>Description</th>\n",
       "    </tr>\n",
       "  </thead>\n",
       "  <tbody>\n",
       "    <tr>\n",
       "      <th>0</th>\n",
       "      <td>Photo</td>\n",
       "      <td>EC WARNS AGAINST DISRUPTING ELECTIONS Some peo...</td>\n",
       "      <td>NaN</td>\n",
       "    </tr>\n",
       "    <tr>\n",
       "      <th>1</th>\n",
       "      <td>Video</td>\n",
       "      <td>NTV BIZ: With bad loans at more than 50% for t...</td>\n",
       "      <td>With bad loans at more than 50% for the Equity...</td>\n",
       "    </tr>\n",
       "    <tr>\n",
       "      <th>2</th>\n",
       "      <td>Native Video</td>\n",
       "      <td>AD. Looking for a place for your child? Rainbo...</td>\n",
       "      <td>NaN</td>\n",
       "    </tr>\n",
       "    <tr>\n",
       "      <th>3</th>\n",
       "      <td>Photo</td>\n",
       "      <td>BESIGYE TO PICK NOMINATION FORMS TODAY FDC par...</td>\n",
       "      <td>NaN</td>\n",
       "    </tr>\n",
       "    <tr>\n",
       "      <th>4</th>\n",
       "      <td>Live Video</td>\n",
       "      <td>LIVE: NRM CEC candidates meet ahead of 2021 | ...</td>\n",
       "      <td>NaN</td>\n",
       "    </tr>\n",
       "    <tr>\n",
       "      <th>...</th>\n",
       "      <td>...</td>\n",
       "      <td>...</td>\n",
       "      <td>...</td>\n",
       "    </tr>\n",
       "    <tr>\n",
       "      <th>299976</th>\n",
       "      <td>Video</td>\n",
       "      <td>NaN</td>\n",
       "      <td>NaN</td>\n",
       "    </tr>\n",
       "    <tr>\n",
       "      <th>299977</th>\n",
       "      <td>Photo</td>\n",
       "      <td>Join the billionaire cult without human sacrif...</td>\n",
       "      <td>NaN</td>\n",
       "    </tr>\n",
       "    <tr>\n",
       "      <th>299978</th>\n",
       "      <td>Photo</td>\n",
       "      <td>NaN</td>\n",
       "      <td>China on Friday reported no new local cases of...</td>\n",
       "    </tr>\n",
       "    <tr>\n",
       "      <th>299979</th>\n",
       "      <td>Photo</td>\n",
       "      <td>NaN</td>\n",
       "      <td>TRIPLE M SUITES NTEBBE \\n\\nWELCOME! \\nWhatever...</td>\n",
       "    </tr>\n",
       "    <tr>\n",
       "      <th>299980</th>\n",
       "      <td>Photo</td>\n",
       "      <td>NaN</td>\n",
       "      <td>Do not miss Facebook live streaming at 8:00pm ...</td>\n",
       "    </tr>\n",
       "  </tbody>\n",
       "</table>\n",
       "<p>299981 rows × 3 columns</p>\n",
       "</div>"
      ],
      "text/plain": [
       "                Type                                            Message  \\\n",
       "0              Photo  EC WARNS AGAINST DISRUPTING ELECTIONS Some peo...   \n",
       "1              Video  NTV BIZ: With bad loans at more than 50% for t...   \n",
       "2       Native Video  AD. Looking for a place for your child? Rainbo...   \n",
       "3              Photo  BESIGYE TO PICK NOMINATION FORMS TODAY FDC par...   \n",
       "4         Live Video  LIVE: NRM CEC candidates meet ahead of 2021 | ...   \n",
       "...              ...                                                ...   \n",
       "299976         Video                                                NaN   \n",
       "299977         Photo  Join the billionaire cult without human sacrif...   \n",
       "299978         Photo                                                NaN   \n",
       "299979         Photo                                                NaN   \n",
       "299980         Photo                                                NaN   \n",
       "\n",
       "                                              Description  \n",
       "0                                                     NaN  \n",
       "1       With bad loans at more than 50% for the Equity...  \n",
       "2                                                     NaN  \n",
       "3                                                     NaN  \n",
       "4                                                     NaN  \n",
       "...                                                   ...  \n",
       "299976                                                NaN  \n",
       "299977                                                NaN  \n",
       "299978  China on Friday reported no new local cases of...  \n",
       "299979  TRIPLE M SUITES NTEBBE \\n\\nWELCOME! \\nWhatever...  \n",
       "299980  Do not miss Facebook live streaming at 8:00pm ...  \n",
       "\n",
       "[299981 rows x 3 columns]"
      ]
     },
     "execution_count": 4,
     "metadata": {},
     "output_type": "execute_result"
    }
   ],
   "source": [
    "posts = posts[['Type', 'Message', 'Description']]\n",
    "posts"
   ]
  },
  {
   "cell_type": "markdown",
   "metadata": {},
   "source": [
    "### Find all the different types of posts"
   ]
  },
  {
   "cell_type": "markdown",
   "metadata": {},
   "source": [
    "#### At first glance, different types of posts appear to have either a description only, a message only, or in some cases, both.\n",
    "#### A look into this will help identify thse differences and learn which fileds to save as the post's text for annotation"
   ]
  },
  {
   "cell_type": "code",
   "execution_count": 5,
   "metadata": {},
   "outputs": [
    {
     "data": {
      "text/plain": [
       "array(['Photo', 'Video', 'Native Video', 'Live Video', 'Link', 'Status',\n",
       "       'YouTube', 'Live Video Complete', 'Live Video Scheduled', 'Album'],\n",
       "      dtype=object)"
      ]
     },
     "execution_count": 5,
     "metadata": {},
     "output_type": "execute_result"
    }
   ],
   "source": [
    "posts['Type'].unique()"
   ]
  },
  {
   "cell_type": "markdown",
   "metadata": {},
   "source": [
    "#### The `Photo` type"
   ]
  },
  {
   "cell_type": "code",
   "execution_count": 6,
   "metadata": {},
   "outputs": [
    {
     "data": {
      "text/html": [
       "<div>\n",
       "<style scoped>\n",
       "    .dataframe tbody tr th:only-of-type {\n",
       "        vertical-align: middle;\n",
       "    }\n",
       "\n",
       "    .dataframe tbody tr th {\n",
       "        vertical-align: top;\n",
       "    }\n",
       "\n",
       "    .dataframe thead th {\n",
       "        text-align: right;\n",
       "    }\n",
       "</style>\n",
       "<table border=\"1\" class=\"dataframe\">\n",
       "  <thead>\n",
       "    <tr style=\"text-align: right;\">\n",
       "      <th></th>\n",
       "      <th>Type</th>\n",
       "      <th>Message</th>\n",
       "      <th>Description</th>\n",
       "    </tr>\n",
       "  </thead>\n",
       "  <tbody>\n",
       "    <tr>\n",
       "      <th>0</th>\n",
       "      <td>Photo</td>\n",
       "      <td>EC WARNS AGAINST DISRUPTING ELECTIONS Some peo...</td>\n",
       "      <td>NaN</td>\n",
       "    </tr>\n",
       "    <tr>\n",
       "      <th>3</th>\n",
       "      <td>Photo</td>\n",
       "      <td>BESIGYE TO PICK NOMINATION FORMS TODAY FDC par...</td>\n",
       "      <td>NaN</td>\n",
       "    </tr>\n",
       "    <tr>\n",
       "      <th>5</th>\n",
       "      <td>Photo</td>\n",
       "      <td>Current atmosphere in Najjanankumbi as those s...</td>\n",
       "      <td>NaN</td>\n",
       "    </tr>\n",
       "    <tr>\n",
       "      <th>6</th>\n",
       "      <td>Photo</td>\n",
       "      <td>NaN</td>\n",
       "      <td>Few facts of a giraffe birth tyat u need to kn...</td>\n",
       "    </tr>\n",
       "    <tr>\n",
       "      <th>8</th>\n",
       "      <td>Photo</td>\n",
       "      <td>NaN</td>\n",
       "      <td>#promoterAlvin_Ug!! Mr Bebe cool nyongela okus...</td>\n",
       "    </tr>\n",
       "    <tr>\n",
       "      <th>...</th>\n",
       "      <td>...</td>\n",
       "      <td>...</td>\n",
       "      <td>...</td>\n",
       "    </tr>\n",
       "    <tr>\n",
       "      <th>299975</th>\n",
       "      <td>Photo</td>\n",
       "      <td>NaN</td>\n",
       "      <td>CORONAVIRUS: \\n\\n📷: Indian municipal workers s...</td>\n",
       "    </tr>\n",
       "    <tr>\n",
       "      <th>299977</th>\n",
       "      <td>Photo</td>\n",
       "      <td>Join the billionaire cult without human sacrif...</td>\n",
       "      <td>NaN</td>\n",
       "    </tr>\n",
       "    <tr>\n",
       "      <th>299978</th>\n",
       "      <td>Photo</td>\n",
       "      <td>NaN</td>\n",
       "      <td>China on Friday reported no new local cases of...</td>\n",
       "    </tr>\n",
       "    <tr>\n",
       "      <th>299979</th>\n",
       "      <td>Photo</td>\n",
       "      <td>NaN</td>\n",
       "      <td>TRIPLE M SUITES NTEBBE \\n\\nWELCOME! \\nWhatever...</td>\n",
       "    </tr>\n",
       "    <tr>\n",
       "      <th>299980</th>\n",
       "      <td>Photo</td>\n",
       "      <td>NaN</td>\n",
       "      <td>Do not miss Facebook live streaming at 8:00pm ...</td>\n",
       "    </tr>\n",
       "  </tbody>\n",
       "</table>\n",
       "<p>140575 rows × 3 columns</p>\n",
       "</div>"
      ],
      "text/plain": [
       "         Type                                            Message  \\\n",
       "0       Photo  EC WARNS AGAINST DISRUPTING ELECTIONS Some peo...   \n",
       "3       Photo  BESIGYE TO PICK NOMINATION FORMS TODAY FDC par...   \n",
       "5       Photo  Current atmosphere in Najjanankumbi as those s...   \n",
       "6       Photo                                                NaN   \n",
       "8       Photo                                                NaN   \n",
       "...       ...                                                ...   \n",
       "299975  Photo                                                NaN   \n",
       "299977  Photo  Join the billionaire cult without human sacrif...   \n",
       "299978  Photo                                                NaN   \n",
       "299979  Photo                                                NaN   \n",
       "299980  Photo                                                NaN   \n",
       "\n",
       "                                              Description  \n",
       "0                                                     NaN  \n",
       "3                                                     NaN  \n",
       "5                                                     NaN  \n",
       "6       Few facts of a giraffe birth tyat u need to kn...  \n",
       "8       #promoterAlvin_Ug!! Mr Bebe cool nyongela okus...  \n",
       "...                                                   ...  \n",
       "299975  CORONAVIRUS: \\n\\n📷: Indian municipal workers s...  \n",
       "299977                                                NaN  \n",
       "299978  China on Friday reported no new local cases of...  \n",
       "299979  TRIPLE M SUITES NTEBBE \\n\\nWELCOME! \\nWhatever...  \n",
       "299980  Do not miss Facebook live streaming at 8:00pm ...  \n",
       "\n",
       "[140575 rows x 3 columns]"
      ]
     },
     "execution_count": 6,
     "metadata": {},
     "output_type": "execute_result"
    }
   ],
   "source": [
    "posts[posts['Type'] == 'Photo']"
   ]
  },
  {
   "cell_type": "markdown",
   "metadata": {},
   "source": [
    "#### The `Status` type (text-only posts)"
   ]
  },
  {
   "cell_type": "code",
   "execution_count": 7,
   "metadata": {},
   "outputs": [
    {
     "data": {
      "text/html": [
       "<div>\n",
       "<style scoped>\n",
       "    .dataframe tbody tr th:only-of-type {\n",
       "        vertical-align: middle;\n",
       "    }\n",
       "\n",
       "    .dataframe tbody tr th {\n",
       "        vertical-align: top;\n",
       "    }\n",
       "\n",
       "    .dataframe thead th {\n",
       "        text-align: right;\n",
       "    }\n",
       "</style>\n",
       "<table border=\"1\" class=\"dataframe\">\n",
       "  <thead>\n",
       "    <tr style=\"text-align: right;\">\n",
       "      <th></th>\n",
       "      <th>Type</th>\n",
       "      <th>Message</th>\n",
       "      <th>Description</th>\n",
       "    </tr>\n",
       "  </thead>\n",
       "  <tbody>\n",
       "    <tr>\n",
       "      <th>15</th>\n",
       "      <td>Status</td>\n",
       "      <td>Bed space available around Burj khalifa Dubai ...</td>\n",
       "      <td>NaN</td>\n",
       "    </tr>\n",
       "    <tr>\n",
       "      <th>22</th>\n",
       "      <td>Status</td>\n",
       "      <td>NaN</td>\n",
       "      <td>NaN</td>\n",
       "    </tr>\n",
       "    <tr>\n",
       "      <th>123</th>\n",
       "      <td>Status</td>\n",
       "      <td>NaN</td>\n",
       "      <td>NaN</td>\n",
       "    </tr>\n",
       "    <tr>\n",
       "      <th>151</th>\n",
       "      <td>Status</td>\n",
       "      <td>NaN</td>\n",
       "      <td>NaN</td>\n",
       "    </tr>\n",
       "    <tr>\n",
       "      <th>155</th>\n",
       "      <td>Status</td>\n",
       "      <td>A Dictator Wants His Rights 😂😂😂😂😂</td>\n",
       "      <td>NaN</td>\n",
       "    </tr>\n",
       "    <tr>\n",
       "      <th>...</th>\n",
       "      <td>...</td>\n",
       "      <td>...</td>\n",
       "      <td>...</td>\n",
       "    </tr>\n",
       "    <tr>\n",
       "      <th>299906</th>\n",
       "      <td>Status</td>\n",
       "      <td>Haha...;;;me i supporse prisoners should be re...</td>\n",
       "      <td>NaN</td>\n",
       "    </tr>\n",
       "    <tr>\n",
       "      <th>299919</th>\n",
       "      <td>Status</td>\n",
       "      <td>NaN</td>\n",
       "      <td>NaN</td>\n",
       "    </tr>\n",
       "    <tr>\n",
       "      <th>299949</th>\n",
       "      <td>Status</td>\n",
       "      <td>Today games betting odds are available just wh...</td>\n",
       "      <td>NaN</td>\n",
       "    </tr>\n",
       "    <tr>\n",
       "      <th>299957</th>\n",
       "      <td>Status</td>\n",
       "      <td>Uganda News: Everybody that arrives at Entebbe...</td>\n",
       "      <td>NaN</td>\n",
       "    </tr>\n",
       "    <tr>\n",
       "      <th>299968</th>\n",
       "      <td>Status</td>\n",
       "      <td>NaN</td>\n",
       "      <td>NaN</td>\n",
       "    </tr>\n",
       "  </tbody>\n",
       "</table>\n",
       "<p>24245 rows × 3 columns</p>\n",
       "</div>"
      ],
      "text/plain": [
       "          Type                                            Message Description\n",
       "15      Status  Bed space available around Burj khalifa Dubai ...         NaN\n",
       "22      Status                                                NaN         NaN\n",
       "123     Status                                                NaN         NaN\n",
       "151     Status                                                NaN         NaN\n",
       "155     Status                  A Dictator Wants His Rights 😂😂😂😂😂         NaN\n",
       "...        ...                                                ...         ...\n",
       "299906  Status  Haha...;;;me i supporse prisoners should be re...         NaN\n",
       "299919  Status                                                NaN         NaN\n",
       "299949  Status  Today games betting odds are available just wh...         NaN\n",
       "299957  Status  Uganda News: Everybody that arrives at Entebbe...         NaN\n",
       "299968  Status                                                NaN         NaN\n",
       "\n",
       "[24245 rows x 3 columns]"
      ]
     },
     "execution_count": 7,
     "metadata": {},
     "output_type": "execute_result"
    }
   ],
   "source": [
    "posts[posts['Type'] == 'Status']"
   ]
  },
  {
   "cell_type": "code",
   "execution_count": null,
   "metadata": {},
   "outputs": [],
   "source": []
  }
 ],
 "metadata": {
  "kernelspec": {
   "display_name": "Python 3",
   "language": "python",
   "name": "python3"
  },
  "language_info": {
   "codemirror_mode": {
    "name": "ipython",
    "version": 3
   },
   "file_extension": ".py",
   "mimetype": "text/x-python",
   "name": "python",
   "nbconvert_exporter": "python",
   "pygments_lexer": "ipython3",
   "version": "3.6.10"
  }
 },
 "nbformat": 4,
 "nbformat_minor": 4
}
