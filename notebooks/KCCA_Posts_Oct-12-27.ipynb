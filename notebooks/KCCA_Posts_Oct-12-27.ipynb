{
 "cells": [
  {
   "cell_type": "markdown",
   "metadata": {},
   "source": [
    "# Analysis of KCCA Facebook posts for @kccaug page (12th-27th Oct 2020)"
   ]
  },
  {
   "cell_type": "code",
   "execution_count": 1,
   "metadata": {},
   "outputs": [],
   "source": [
    "import pandas as pd\n",
    "import seaborn as sns\n",
    "import numpy as np\n",
    "import matplotlib\n",
    "import matplotlib.pyplot as plt\n",
    "import matplotlib.gridspec as gridspec\n",
    "import datetime as dt"
   ]
  },
  {
   "cell_type": "code",
   "execution_count": 2,
   "metadata": {},
   "outputs": [],
   "source": [
    "plt.rcParams[\"figure.figsize\"] = (20,10)\n",
    "sns.set_style('darkgrid')\n",
    "sns.set(font_scale=1.4)"
   ]
  },
  {
   "cell_type": "code",
   "execution_count": 3,
   "metadata": {},
   "outputs": [],
   "source": [
    "pd.set_option(\"display.max.columns\", None)"
   ]
  },
  {
   "cell_type": "markdown",
   "metadata": {},
   "source": [
    "## Initial study of KCCA dataset"
   ]
  },
  {
   "cell_type": "code",
   "execution_count": 4,
   "metadata": {},
   "outputs": [],
   "source": [
    "posts = pd.read_csv('../data/KCCA-Oct-12-27-posts.csv')"
   ]
  },
  {
   "cell_type": "code",
   "execution_count": 6,
   "metadata": {
    "scrolled": true
   },
   "outputs": [
    {
     "output_type": "execute_result",
     "data": {
      "text/plain": "                               Page Name User Name      Facebook Id  \\\n0  Kampala Capital City Authority - KCCA    kccaug  273186819404795   \n1  Kampala Capital City Authority - KCCA    kccaug  273186819404795   \n2  Kampala Capital City Authority - KCCA    kccaug  273186819404795   \n3  Kampala Capital City Authority - KCCA    kccaug  273186819404795   \n4  Kampala Capital City Authority - KCCA    kccaug  273186819404795   \n\n   Likes at Posting                  Created   Type  Likes  Comments  Shares  \\\n0             73405  2020-10-27 10:55:09 EAT  Photo    108        10      11   \n1             73398  2020-10-26 16:24:19 EAT  Photo     88        35       7   \n2             73375  2020-10-24 17:23:17 EAT  Photo    301        27      24   \n3             73369  2020-10-22 16:23:41 EAT  Photo    139        12       1   \n4             73369  2020-10-22 08:15:26 EAT  Photo    228         3       5   \n\n   Love  Wow  Haha  Sad  Angry  Care  Video Share Status  Post Views  \\\n0     1    0     0    0      0     0                 NaN           0   \n1     1    0     0    0      0     0                 NaN           0   \n2     2    0     0    0      0     0                 NaN           0   \n3     2    0     0    0      0     2                 NaN           0   \n4     3    0     0    0      0     1                 NaN           0   \n\n   Total Views  Total Views For All Crossposts  Video Length  \\\n0            0                               0           NaN   \n1            0                               0           NaN   \n2            0                               0           NaN   \n3            0                               0           NaN   \n4            0                               0           NaN   \n\n                                                 URL  \\\n0  https://www.facebook.com/kccaug/posts/35807259...   \n1  https://www.facebook.com/kccaug/posts/35785984...   \n2  https://www.facebook.com/kccaug/posts/35732544...   \n3  https://www.facebook.com/kccaug/posts/35675247...   \n4  https://www.facebook.com/kccaug/posts/35666668...   \n\n                                             Message  \\\n0  Its 4 days to Weyonje monthly Cleanup, keeping...   \n1  The Precinct Physical Development Plans for Ko...   \n2  KCCA Executive Director made an on spot tour o...   \n3  As you sit back in your living room or on your...   \n4  KCCA Executive Director paid a courtesy call o...   \n\n                                                Link  \\\n0  https://www.facebook.com/kccaug/photos/a.27321...   \n1  https://www.facebook.com/kccaug/photos/a.27321...   \n2  https://www.facebook.com/kccaug/photos/a.27321...   \n3  https://www.facebook.com/kccaug/photos/a.60884...   \n4  https://www.facebook.com/KCCAED/photos/a.18019...   \n\n                                          Final Link Image Text  \\\n0                                                NaN        NaN   \n1                                                NaN        NaN   \n2  https://www.facebook.com/login/?next=https%3A%...        NaN   \n3  https://www.facebook.com/login/?next=https%3A%...        NaN   \n4                                                NaN        NaN   \n\n                                           Link Text  \\\n0                                                NaN   \n1                                                NaN   \n2  Photos from Kampala Capital City Authority - K...   \n3                                                NaN   \n4                            KCCA Executive Director   \n\n                                         Description  Sponsor Id  \\\n0                                                NaN         NaN   \n1                                                NaN         NaN   \n2                                                NaN         NaN   \n3                                                NaN         NaN   \n4  It was a pleasure meeting the Rt Hon Rebecca A...         NaN   \n\n   Sponsor Name  Overperforming Score  \n0           NaN                 -1.48  \n1           NaN                 -1.65  \n2           NaN                  1.51  \n3           NaN                 -1.57  \n4           NaN                 -1.02  ",
      "text/html": "<div>\n<style scoped>\n    .dataframe tbody tr th:only-of-type {\n        vertical-align: middle;\n    }\n\n    .dataframe tbody tr th {\n        vertical-align: top;\n    }\n\n    .dataframe thead th {\n        text-align: right;\n    }\n</style>\n<table border=\"1\" class=\"dataframe\">\n  <thead>\n    <tr style=\"text-align: right;\">\n      <th></th>\n      <th>Page Name</th>\n      <th>User Name</th>\n      <th>Facebook Id</th>\n      <th>Likes at Posting</th>\n      <th>Created</th>\n      <th>Type</th>\n      <th>Likes</th>\n      <th>Comments</th>\n      <th>Shares</th>\n      <th>Love</th>\n      <th>Wow</th>\n      <th>Haha</th>\n      <th>Sad</th>\n      <th>Angry</th>\n      <th>Care</th>\n      <th>Video Share Status</th>\n      <th>Post Views</th>\n      <th>Total Views</th>\n      <th>Total Views For All Crossposts</th>\n      <th>Video Length</th>\n      <th>URL</th>\n      <th>Message</th>\n      <th>Link</th>\n      <th>Final Link</th>\n      <th>Image Text</th>\n      <th>Link Text</th>\n      <th>Description</th>\n      <th>Sponsor Id</th>\n      <th>Sponsor Name</th>\n      <th>Overperforming Score</th>\n    </tr>\n  </thead>\n  <tbody>\n    <tr>\n      <th>0</th>\n      <td>Kampala Capital City Authority - KCCA</td>\n      <td>kccaug</td>\n      <td>273186819404795</td>\n      <td>73405</td>\n      <td>2020-10-27 10:55:09 EAT</td>\n      <td>Photo</td>\n      <td>108</td>\n      <td>10</td>\n      <td>11</td>\n      <td>1</td>\n      <td>0</td>\n      <td>0</td>\n      <td>0</td>\n      <td>0</td>\n      <td>0</td>\n      <td>NaN</td>\n      <td>0</td>\n      <td>0</td>\n      <td>0</td>\n      <td>NaN</td>\n      <td>https://www.facebook.com/kccaug/posts/35807259...</td>\n      <td>Its 4 days to Weyonje monthly Cleanup, keeping...</td>\n      <td>https://www.facebook.com/kccaug/photos/a.27321...</td>\n      <td>NaN</td>\n      <td>NaN</td>\n      <td>NaN</td>\n      <td>NaN</td>\n      <td>NaN</td>\n      <td>NaN</td>\n      <td>-1.48</td>\n    </tr>\n    <tr>\n      <th>1</th>\n      <td>Kampala Capital City Authority - KCCA</td>\n      <td>kccaug</td>\n      <td>273186819404795</td>\n      <td>73398</td>\n      <td>2020-10-26 16:24:19 EAT</td>\n      <td>Photo</td>\n      <td>88</td>\n      <td>35</td>\n      <td>7</td>\n      <td>1</td>\n      <td>0</td>\n      <td>0</td>\n      <td>0</td>\n      <td>0</td>\n      <td>0</td>\n      <td>NaN</td>\n      <td>0</td>\n      <td>0</td>\n      <td>0</td>\n      <td>NaN</td>\n      <td>https://www.facebook.com/kccaug/posts/35785984...</td>\n      <td>The Precinct Physical Development Plans for Ko...</td>\n      <td>https://www.facebook.com/kccaug/photos/a.27321...</td>\n      <td>NaN</td>\n      <td>NaN</td>\n      <td>NaN</td>\n      <td>NaN</td>\n      <td>NaN</td>\n      <td>NaN</td>\n      <td>-1.65</td>\n    </tr>\n    <tr>\n      <th>2</th>\n      <td>Kampala Capital City Authority - KCCA</td>\n      <td>kccaug</td>\n      <td>273186819404795</td>\n      <td>73375</td>\n      <td>2020-10-24 17:23:17 EAT</td>\n      <td>Photo</td>\n      <td>301</td>\n      <td>27</td>\n      <td>24</td>\n      <td>2</td>\n      <td>0</td>\n      <td>0</td>\n      <td>0</td>\n      <td>0</td>\n      <td>0</td>\n      <td>NaN</td>\n      <td>0</td>\n      <td>0</td>\n      <td>0</td>\n      <td>NaN</td>\n      <td>https://www.facebook.com/kccaug/posts/35732544...</td>\n      <td>KCCA Executive Director made an on spot tour o...</td>\n      <td>https://www.facebook.com/kccaug/photos/a.27321...</td>\n      <td>https://www.facebook.com/login/?next=https%3A%...</td>\n      <td>NaN</td>\n      <td>Photos from Kampala Capital City Authority - K...</td>\n      <td>NaN</td>\n      <td>NaN</td>\n      <td>NaN</td>\n      <td>1.51</td>\n    </tr>\n    <tr>\n      <th>3</th>\n      <td>Kampala Capital City Authority - KCCA</td>\n      <td>kccaug</td>\n      <td>273186819404795</td>\n      <td>73369</td>\n      <td>2020-10-22 16:23:41 EAT</td>\n      <td>Photo</td>\n      <td>139</td>\n      <td>12</td>\n      <td>1</td>\n      <td>2</td>\n      <td>0</td>\n      <td>0</td>\n      <td>0</td>\n      <td>0</td>\n      <td>2</td>\n      <td>NaN</td>\n      <td>0</td>\n      <td>0</td>\n      <td>0</td>\n      <td>NaN</td>\n      <td>https://www.facebook.com/kccaug/posts/35675247...</td>\n      <td>As you sit back in your living room or on your...</td>\n      <td>https://www.facebook.com/kccaug/photos/a.60884...</td>\n      <td>https://www.facebook.com/login/?next=https%3A%...</td>\n      <td>NaN</td>\n      <td>NaN</td>\n      <td>NaN</td>\n      <td>NaN</td>\n      <td>NaN</td>\n      <td>-1.57</td>\n    </tr>\n    <tr>\n      <th>4</th>\n      <td>Kampala Capital City Authority - KCCA</td>\n      <td>kccaug</td>\n      <td>273186819404795</td>\n      <td>73369</td>\n      <td>2020-10-22 08:15:26 EAT</td>\n      <td>Photo</td>\n      <td>228</td>\n      <td>3</td>\n      <td>5</td>\n      <td>3</td>\n      <td>0</td>\n      <td>0</td>\n      <td>0</td>\n      <td>0</td>\n      <td>1</td>\n      <td>NaN</td>\n      <td>0</td>\n      <td>0</td>\n      <td>0</td>\n      <td>NaN</td>\n      <td>https://www.facebook.com/kccaug/posts/35666668...</td>\n      <td>KCCA Executive Director paid a courtesy call o...</td>\n      <td>https://www.facebook.com/KCCAED/photos/a.18019...</td>\n      <td>NaN</td>\n      <td>NaN</td>\n      <td>KCCA Executive Director</td>\n      <td>It was a pleasure meeting the Rt Hon Rebecca A...</td>\n      <td>NaN</td>\n      <td>NaN</td>\n      <td>-1.02</td>\n    </tr>\n  </tbody>\n</table>\n</div>"
     },
     "metadata": {},
     "execution_count": 6
    }
   ],
   "source": [
    "posts.head()"
   ]
  },
  {
   "cell_type": "code",
   "execution_count": 7,
   "metadata": {},
   "outputs": [
    {
     "output_type": "execute_result",
     "data": {
      "text/plain": "(16, 30)"
     },
     "metadata": {},
     "execution_count": 7
    }
   ],
   "source": [
    "posts.shape"
   ]
  },
  {
   "cell_type": "markdown",
   "metadata": {},
   "source": [
    "### Check for posts with no `Message` (possibly picture-only or video-only posts)"
   ]
  },
  {
   "cell_type": "code",
   "execution_count": 11,
   "metadata": {},
   "outputs": [
    {
     "output_type": "execute_result",
     "data": {
      "text/plain": "0"
     },
     "metadata": {},
     "execution_count": 11
    }
   ],
   "source": [
    "posts['Message'].isna().sum()\n",
    "# posts.isna()"
   ]
  },
  {
   "cell_type": "markdown",
   "metadata": {},
   "source": [
    "# Annotation"
   ]
  },
  {
   "cell_type": "markdown",
   "metadata": {},
   "source": [
    "### Create dataset in the right format for annotation"
   ]
  },
  {
   "cell_type": "code",
   "execution_count": 15,
   "metadata": {
    "scrolled": true
   },
   "outputs": [
    {
     "output_type": "execute_result",
     "data": {
      "text/plain": "                   Created                                               text  \\\n0  2020-10-27 10:55:09 EAT  Its 4 days to Weyonje monthly Cleanup, keeping...   \n1  2020-10-26 16:24:19 EAT  The Precinct Physical Development Plans for Ko...   \n2  2020-10-24 17:23:17 EAT  KCCA Executive Director made an on spot tour o...   \n3  2020-10-22 16:23:41 EAT  As you sit back in your living room or on your...   \n4  2020-10-22 08:15:26 EAT  KCCA Executive Director paid a courtesy call o...   \n5  2020-10-21 22:18:33 EAT  Our appreciation to Multi Choice Uganda who to...   \n6  2020-10-21 15:34:41 EAT  Our Dir. Education & Social Services officiate...   \n7  2020-10-21 08:09:08 EAT  As we come closer to our monthly #KampalaWeyon...   \n8  2020-10-19 09:36:06 EAT  Last month, we launched the monthly #KampalaWe...   \n9  2020-10-17 16:31:33 EAT  Earlier on today, our team led by KCCA Executi...   \n\n  label  \n0        \n1        \n2        \n3        \n4        \n5        \n6        \n7        \n8        \n9        ",
      "text/html": "<div>\n<style scoped>\n    .dataframe tbody tr th:only-of-type {\n        vertical-align: middle;\n    }\n\n    .dataframe tbody tr th {\n        vertical-align: top;\n    }\n\n    .dataframe thead th {\n        text-align: right;\n    }\n</style>\n<table border=\"1\" class=\"dataframe\">\n  <thead>\n    <tr style=\"text-align: right;\">\n      <th></th>\n      <th>Created</th>\n      <th>text</th>\n      <th>label</th>\n    </tr>\n  </thead>\n  <tbody>\n    <tr>\n      <th>0</th>\n      <td>2020-10-27 10:55:09 EAT</td>\n      <td>Its 4 days to Weyonje monthly Cleanup, keeping...</td>\n      <td></td>\n    </tr>\n    <tr>\n      <th>1</th>\n      <td>2020-10-26 16:24:19 EAT</td>\n      <td>The Precinct Physical Development Plans for Ko...</td>\n      <td></td>\n    </tr>\n    <tr>\n      <th>2</th>\n      <td>2020-10-24 17:23:17 EAT</td>\n      <td>KCCA Executive Director made an on spot tour o...</td>\n      <td></td>\n    </tr>\n    <tr>\n      <th>3</th>\n      <td>2020-10-22 16:23:41 EAT</td>\n      <td>As you sit back in your living room or on your...</td>\n      <td></td>\n    </tr>\n    <tr>\n      <th>4</th>\n      <td>2020-10-22 08:15:26 EAT</td>\n      <td>KCCA Executive Director paid a courtesy call o...</td>\n      <td></td>\n    </tr>\n    <tr>\n      <th>5</th>\n      <td>2020-10-21 22:18:33 EAT</td>\n      <td>Our appreciation to Multi Choice Uganda who to...</td>\n      <td></td>\n    </tr>\n    <tr>\n      <th>6</th>\n      <td>2020-10-21 15:34:41 EAT</td>\n      <td>Our Dir. Education &amp; Social Services officiate...</td>\n      <td></td>\n    </tr>\n    <tr>\n      <th>7</th>\n      <td>2020-10-21 08:09:08 EAT</td>\n      <td>As we come closer to our monthly #KampalaWeyon...</td>\n      <td></td>\n    </tr>\n    <tr>\n      <th>8</th>\n      <td>2020-10-19 09:36:06 EAT</td>\n      <td>Last month, we launched the monthly #KampalaWe...</td>\n      <td></td>\n    </tr>\n    <tr>\n      <th>9</th>\n      <td>2020-10-17 16:31:33 EAT</td>\n      <td>Earlier on today, our team led by KCCA Executi...</td>\n      <td></td>\n    </tr>\n  </tbody>\n</table>\n</div>"
     },
     "metadata": {},
     "execution_count": 15
    }
   ],
   "source": [
    "posts2 = posts[['Created']]\n",
    "posts2['text'] = posts['Message']\n",
    "posts2['label'] = ''\n",
    "posts2.head(10)"
   ]
  },
  {
   "cell_type": "code",
   "execution_count": 16,
   "metadata": {},
   "outputs": [],
   "source": [
    "posts2.to_csv('../data/KCCA-Oct-12-27-posts-for-annotation.csv')"
   ]
  },
  {
   "cell_type": "markdown",
   "metadata": {},
   "source": [
    "### Analyze annotated data"
   ]
  },
  {
   "cell_type": "code",
   "execution_count": 18,
   "metadata": {},
   "outputs": [],
   "source": []
  }
 ],
 "metadata": {
  "kernelspec": {
   "display_name": "Python 3",
   "language": "python",
   "name": "python3"
  },
  "language_info": {
   "codemirror_mode": {
    "name": "ipython",
    "version": 3
   },
   "file_extension": ".py",
   "mimetype": "text/x-python",
   "name": "python",
   "nbconvert_exporter": "python",
   "pygments_lexer": "ipython3",
   "version": "3.6.10-final"
  }
 },
 "nbformat": 4,
 "nbformat_minor": 2
}