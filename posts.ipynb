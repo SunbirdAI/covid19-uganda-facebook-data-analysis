{
 "cells": [
  {
   "cell_type": "markdown",
   "metadata": {},
   "source": [
    "### Fetch and analyze Facebook post data for Covid19"
   ]
  },
  {
   "cell_type": "markdown",
   "metadata": {},
   "source": [
    "**Import dependencies**"
   ]
  },
  {
   "cell_type": "code",
   "execution_count": 1,
   "metadata": {},
   "outputs": [],
   "source": [
    "from decouple import config\n",
    "import requests\n"
   ]
  },
  {
   "cell_type": "code",
   "execution_count": 2,
   "metadata": {},
   "outputs": [],
   "source": [
    "api_token = config('CROWDTANGLE_API_TOKEN')"
   ]
  },
  {
   "cell_type": "markdown",
   "metadata": {},
   "source": [
    "**Set up `pymongo` to connect with MongoDB for storing the posts**"
   ]
  },
  {
   "cell_type": "code",
   "execution_count": null,
   "metadata": {},
   "outputs": [],
   "source": [
    "import pymongo\n",
    "db_client = pymongo.MongoClient()\n",
    "pages_db = db_client[\"fbpages\"]\n",
    "col = pages_db[\"posts\"]"
   ]
  },
  {
   "cell_type": "markdown",
   "metadata": {},
   "source": [
    "Fetch posts from our CrowdTangle List"
   ]
  },
  {
   "cell_type": "code",
   "execution_count": 3,
   "metadata": {},
   "outputs": [
    {
     "output_type": "execute_result",
     "data": {
      "text/plain": "cVm9&_nc_ht=scontent-sea1-1.xx&oh=92e2e09c80e1ac7121c3e88f11d60122&oe=5F4781C1\",\"subscriberCount\":1372498,\"url\":\"https://www.facebook.com/169252986456497\",\"platform\":\"Facebook\",\"platformId\":\"169252986456497\",\"accountType\":\"facebook_page\",\"pageAdminTopCountry\":\"UG\",\"verified\":true},\"videoLengthMS\":37610},{\"id\":102071948472,\"platformId\":\"329423169077_10158769326119078\",\"platform\":\"Facebook\",\"date\":\"2020-07-30 10:23:38\",\"updated\":\"2020-07-30 13:26:47\",\"type\":\"photo\",\"message\":\"Update on Hoima International Airport All works are expected to be complete by February 23, 2023. The project is funded by United Kingdom Export Finance (UKEF). The project is worth $309m about sh1.1trillion. The project employs around 830 people. At least 98% of the people employed are Ugandans of which 20% are female and about 30% from Hoima district. Only 2% are foreigners. #VisionUpdates #HoimaInternationalAirport\",\"expandedLinks\":[{\"original\":\"https://www.facebook.com/thenewvision/photos/a.10150354189274078/10158769325739078/?type=3\",\"expanded\":\"https://www.facebook.com/thenewvision/photos/a.10150354189274078/10158769325739078/?type=3\"}],\"link\":\"https://www.facebook.com/thenewvision/photos/a.10150354189274078/10158769325739078/?type=3\",\"postUrl\":\"https://www.facebook.com/thenewvision/posts/10158769326119078\",\"subscriberCount\":1349453,\"score\":4.678899082568807,\"media\":[{\"type\":\"photo\",\"url\":\"https://scontent-sea1-1.xx.fbcdn.net/v/t1.0-0/p480x480/116382950_10158769325749078_1357474778574199617_n.jpg?_nc_cat=100&_nc_sid=110474&_nc_ohc=mE4vF_lsrfcAX9CprpP&_nc_oc=AQnpiHiSzAEMOm_CW2lItrXOZCwc1HBoCGfPsdJbwdrO7JBRgGPLy_Az16LSJZzw4ZA&_nc_ht=scontent-sea1-1.xx&_nc_tp=6&oh=3c09010225822aabf597711ff7e35547&oe=5F47D4F6\",\"height\":480,\"width\":720,\"full\":\"https://scontent-sea1-1.xx.fbcdn.net/v/t1.0-0/p480x480/116382950_10158769325749078_1357474778574199617_n.jpg?_nc_cat=100&_nc_sid=110474&_nc_ohc=mE4vF_lsrfcAX9CprpP&_nc_oc=AQnpiHiSzAEMOm_CW2lItrXOZCwc1HBoCGfPsdJbwdrO7JBRgGPLy_Az16LSJZzw4ZA&_nc_ht=scontent-sea1-1.xx&_nc_tp=6&oh=3c09010225822aabf597711ff7e35547&oe=5F47D4F6\"}],\"statistics\":{\"actual\":{\"likeCount\":361,\"shareCount\":22,\"commentCount\":110,\"loveCount\":12,\"wowCount\":2,\"hahaCount\":2,\"sadCount\":0,\"angryCount\":1,\"thankfulCount\":0,\"careCount\":0},\"expected\":{\"likeCount\":75,\"shareCount\":5,\"commentCount\":13,\"loveCount\":3,\"wowCount\":2,\"hahaCount\":5,\"sadCount\":4,\"angryCount\":2,\"thankfulCount\":0,\"careCount\":2}},\"account\":{\"id\":171199,\"name\":\"The New Vision\",\"handle\":\"thenewvision\",\"profileImage\":\"https://scontent-sea1-1.xx.fbcdn.net/v/t1.0-1/p200x200/91544846_10158380468919078_1555414262988406784_o.jpg?_nc_cat=1&_nc_sid=dbb9e7&_nc_ohc=o77gO5soPhYAX8tVSqy&_nc_ht=scontent-sea1-1.xx&_nc_tp=6&oh=59599f9abd777519508909837909d722&oe=5F4A29C1\",\"subscriberCount\":1349453,\"url\":\"https://www.facebook.com/329423169077\",\"platform\":\"Facebook\",\"platformId\":\"329423169077\",\"accountType\":\"facebook_page\",\"pageAdminTopCountry\":\"UG\",\"verified\":true}},{\"id\":102071948470,\"platformId\":\"329423169077_10158769350354078\",\"platform\":\"Facebook\",\"date\":\"2020-07-30 10:43:35\",\"updated\":\"2020-07-30 13:26:47\",\"type\":\"photo\",\"message\":\"What a man can do, a woman can do. Meet Faridah Nabbanja one of the operators of the Earth moving machine, at Hoima International Airport construction site. #VisionUpdates #HoimaInternationalAirport \\\\uD83D\\\\uDCF8 Araali Mutegeki\",\"expandedLinks\":[{\"original\":\"https://www.facebook.com/thenewvision/photos/a.10150354189274078/10158769350134078/?type=3\",\"expanded\":\"https://www.facebook.com/thenewvision/photos/a.10150354189274078/10158769350134078/?type=3\"}],\"link\":\"https://www.facebook.com/thenewvision/photos/a.10150354189274078/10158769350134078/?type=3\",\"postUrl\":\"https://www.facebook.com/thenewvision/posts/10158769350354078\",\"subscriberCount\":1349453,\"score\":4.4485981308411215,\"media\":[{\"type\":\"photo\",\"url\":\"https://scontent-sea1-1.xx.fbcdn.net/v/t1.0-0/p480x480/116718924_10158769350139078_4863328456811061801_n.jpg?_nc_cat=111&_nc_sid=110474&_nc_ohc=mctMxNTfMRkAX8tNp-K&_nc_ht=scontent-sea1-1.xx&_nc_tp=6&oh=e3a3a759cc609fd70b8b5381931cf52d&oe=5F47D2AB\",\"height\":480,\"width\":720,\"full\":\"https://scontent-sea1-1.xx.fbcdn.net/v/t1.0-0/p480x480/116718924_10158769350139078_4863328456811061801_n.jpg?_nc_cat=111&_nc_sid=110474&_nc_ohc=mctMxNTfMRkAX8tNp-K&_nc_ht=scontent-sea1-1.xx&_nc_tp=6&oh=e3a3a759cc609fd70b8b5381931cf52d&oe=5F47D2AB\"}],\"statistics\":{\"actual\":{\"likeCount\":370,\"shareCount\":14,\"commentCount\":86,\"loveCount\":5,\"wowCount\":0,\"hahaCount\":1,\"sadCount\":0,\"angryCount\":0,\"thankfulCount\":0,\"careCount\":1},\"expected\":{\"likeCount\":73,\"shareCount\":5,\"commentCount\":13,\"loveCount\":3,\"wowCount\":2,\"hahaCount\":5,\"sadCount\":4,\"angryCount\":2,\"thankfulCount\":0,\"careCount\":2}},\"account\":{\"id\":171199,\"name\":\"The New Vision\",\"handle\":\"thenewvision\",\"profileImage\":\"https://scontent-sea1-1.xx.fbcdn.net/v/t1.0-1/p200x200/91544846_10158380468919078_1555414262988406784_o.jpg?_nc_cat=1&_nc_sid=dbb9e7&_nc_ohc=o77gO5soPhYAX8tVSqy&_nc_ht=scontent-sea1-1.xx&_nc_tp=6&oh=59599f9abd777519508909837909d722&oe=5F4A29C1\",\"subscriberCount\":1349453,\"url\":\"https://www.facebook.com/329423169077\",\"platform\":\"Facebook\",\"platformId\":\"329423169077\",\"accountType\":\"facebook_page\",\"pageAdminTopCountry\":\"UG\",\"verified\":true}},{\"id\":102073227909,\"platformId\":\"169252986456497_3236372173077881\",\"platform\":\"Facebook\",\"date\":\"2020-07-30 11:00:11\",\"updated\":\"2020-07-30 13:18:53\",\"type\":\"photo\",\"message\":\"TONIGHT: His defection from the Democratic Party (DP) to the Forum for Democratic Change (FDC) is one of the big political events that rocked this week. Was it a hit or miss? The Lord Mayor Erias Lukwago will talk all this and more. #NTVOnTheSpot | 9:45 PM | www.ntv.co.ug/live?utm_medium=social&utm_source=facebook_NTV_Uganda\",\"expandedLinks\":[{\"original\":\"www.ntv.co.ug/live?utm_medium=social&utm_source=facebook_NTV_Uganda\",\"expanded\":\"https://www.ntv.co.ug/live?utm_medium=social&utm_source=facebook_NTV_Uganda\"},{\"original\":\"https://www.facebook.com/NTVUganda/photos/a.319879798060481/3236372173077881/?type=3\",\"expanded\":\"https://www.facebook.com/NTVUganda/photos/a.319879798060481/3236372173077881/?type=3\"}],\"link\":\"https://www.facebook.com/NTVUganda/photos/a.319879798060481/3236372173077881/?type=3\",\"postUrl\":\"https://www.facebook.com/NTVUganda/posts/3236372173077881\",\"subscriberCount\":1372498,\"score\":3.908450704225352,\"media\":[{\"type\":\"photo\",\"url\":\"https://scontent-sea1-1.xx.fbcdn.net/v/t1.0-9/s720x720/116263442_3236372176411214_709761134189908573_o.jpg?_nc_cat=101&_nc_sid=2d5d41&_nc_ohc=nq7QQq2U0j8AX8eCT80&_nc_ht=scontent-sea1-1.xx&_nc_tp=7&oh=10ba2737171e433e300d8299adc23f22&oe=5F465166\",\"height\":720,\"width\":589,\"full\":\"https://scontent-sea1-1.xx.fbcdn.net/v/t1.0-9/s720x720/116263442_3236372176411214_709761134189908573_o.jpg?_nc_cat=101&_nc_sid=2d5d41&_nc_ohc=nq7QQq2U0j8AX8eCT80&_nc_ht=scontent-sea1-1.xx&_nc_tp=7&oh=10ba2737171e433e300d8299adc23f22&oe=5F465166\"}],\"statistics\":{\"actual\":{\"likeCount\":462,\"shareCount\":7,\"commentCount\":84,\"loveCount\":2,\"wowCount\":0,\"hahaCount\":0,\"sadCount\":0,\"angryCount\":0,\"thankfulCount\":0,\"careCount\":0},\"expected\":{\"likeCount\":111,\"shareCount\":2,\"commentCount\":13,\"loveCount\":3,\"wowCount\":2,\"hahaCount\":4,\"sadCount\":5,\"angryCount\":2,\"thankfulCount\":0,\"careCount\":2}},\"account\":{\"id\":44437,\"name\":\"NTV Uganda\",\"handle\":\"NTVUganda\",\"profileImage\":\"https://scontent-sea1-1.xx.fbcdn.net/v/t1.0-1/p200x200/15977230_1235752523139866_5650700728042753639_n.png?_nc_cat=1&_nc_sid=dbb9e7&_nc_ohc=OtpbrpOzJjUAX-wcVm9&_nc_ht=scontent-sea1-1.xx&oh=92e2e09c80e1ac7121c3e88f11d60122&oe=5F4781C1\",\"subscriberCount\":1372498,\"url\":\"https://www.facebook.com/169252986456497\",\"platform\":\"Facebook\",\"platformId\":\"169252986456497\",\"accountType\":\"facebook_page\",\"pageAdminTopCountry\":\"UG\",\"verified\":true},\"imageText\":\"ON THE SPOT LUKWAGO\\'S MOVE TO FDC, A STRATEGY OR POLITICAL MISTAKE? GUEST: ERIAS LUKWAGO LORD MAYOR MAYOR NV Tnword with Patrick Kamara. THURSDAY, JULY 30, 2020 TIME:9:45PM #NTVOnTheSpot f Uganda @ntvuganda NTVUganda ntvuganda www.ntv.co.u\"},{\"id\":102073769305,\"platformId\":\"329423169077_10158769381764078\",\"platform\":\"Facebook\",\"date\":\"2020-07-30 11:04:54\",\"updated\":\"2020-07-30 13:26:47\",\"type\":\"photo\",\"message\":\"Police is hunting for musician Pallaso who escaped custody while in handcuffs in the wee hours of Thursday morning. bit.ly/2XdeLUJ | #VisionUpdates\",\"expandedLinks\":[{\"original\":\"bit.ly/2XdeLUJ\",\"expanded\":\"https://www.newvision.co.ug/news/1523692/police-hunt-musician-pallaso-escaping-handcuffed\"},{\"original\":\"https://www.facebook.com/thenewvision/photos/a.341594839077/10158769380999078/?type=3\",\"expanded\":\"https://www.facebook.com/thenewvision/photos/a.341594839077/10158769380999078/?type=3\"}],\"link\":\"https://www.facebook.com/thenewvision/photos/a.341594839077/10158769380999078/?type=3\",\"postUrl\":\"https://www.facebook.com/thenewvision/posts/10158769381764078\",\"subscriberCount\":1349453,\"score\":2.766990291262136,\"media\":[{\"type\":\"photo\",\"url\":\"https://scontent-sea1-1.xx.fbcdn.net/v/t1.0-9/116693199_10158769381004078_2220355452182915307_n.jpg?_nc_cat=103&_nc_sid=8024bb&_nc_ohc=ViyFC1UWC3EAX_rz0A6&_nc_ht=scontent-sea1-1.xx&oh=e45fe9ea5e3477800f71096fce09c8a1&oe=5F47B613\",\"height\":403,\"width\":671,\"full\":\"https://scontent-sea1-1.xx.fbcdn.net/v/t1.0-9/116693199_10158769381004078_2220355452182915307_n.jpg?_nc_cat=103&_nc_sid=8024bb&_nc_ohc=ViyFC1UWC3EAX_rz0A6&_nc_ht=scontent-sea1-1.xx&oh=e45fe9ea5e3477800f71096fce09c8a1&oe=5F47B613\"}],\"statistics\":{\"actual\":{\"likeCount\":182,\"shareCount\":4,\"commentCount\":57,\"loveCount\":3,\"wowCount\":0,\"hahaCount\":38,\"sadCount\":1,\"angryCount\":0,\"thankfulCount\":0,\"careCount\":0},\"expected\":{\"likeCount\":69,\"shareCount\":5,\"commentCount\":13,\"loveCount\":3,\"wowCount\":2,\"hahaCount\":5,\"sadCount\":4,\"angryCount\":2,\"thankfulCount\":0,\"careCount\":2}},\"account\":{\"id\":171199,\"name\":\"The New Vision\",\"handle\":\"thenewvision\",\"profileImage\":\"https://scontent-sea1-1.xx.fbcdn.net/v/t1.0-1/p200x200/91544846_10158380468919078_1555414262988406784_o.jpg?_nc_cat=1&_nc_sid=dbb9e7&_nc_ohc=o77gO5soPhYAX8tVSqy&_nc_ht=scontent-sea1-1.xx&_nc_tp=6&oh=59599f9abd777519508909837909d722&oe=5F4A29C1\",\"subscriberCount\":1349453,\"url\":\"https://www.facebook.com/329423169077\",\"platform\":\"Facebook\",\"platformId\":\"329423169077\",\"accountType\":\"facebook_page\",\"pageAdminTopCountry\":\"UG\",\"verified\":true}},{\"id\":102065185499,\"platformId\":\"105583497196_10157392980727197\",\"platform\":\"Facebook\",\"date\":\"2020-07-30 08:49:29\",\"updated\":\"2020-07-30 13:05:22\",\"type\":\"photo\",\"message\":\"Parliament convenes this afternoon to take a decision on the motion proposing the creation of 46 new counties (constituencies). If passed, the 11th Parliament will have over 500 Members of Parliament. #MonitorUpdates via Zziwa Herbert\",\"expandedLinks\":[{\"original\":\"https://www.facebook.com/DailyMonitor/photos/a.10151308722212197/10157392978462197/?type=3\",\"expanded\":\"https://www.facebook.com/DailyMonitor/photos/a.10151308722212197/10157392978462197/?type=3\"}],\"link\":\"https://www.facebook.com/DailyMonitor/photos/a.10151308722212197/10157392978462197/?type=3\",\"postUrl\":\"https://www.facebook.com/DailyMonitor/posts/10157392980727197\",\"subscriberCount\":1262758,\"score\":2.5031847133757963,\"media\":[{\"type\":\"photo\",\"url\":\"https://scontent-sea1-1.xx.fbcdn.net/v/t1.0-9/116722464_10157392978467197_47837574795390171_n.jpg?_nc_cat=111&_nc_sid=8024bb&_nc_ohc=xgmfZCi5oV0AX_adqtK&_nc_ht=scontent-sea1-1.xx&oh=c362dc85d254589b67b8b032205b2ec0&oe=5F464585\",\"height\":400,\"width\":600,\"full\":\"https://scontent-sea1-1.xx.fbcdn.net/v/t1.0-9/116722464_10157392978467197_47837574795390171_n.jpg?_nc_cat=111&_nc_sid=8024bb&_nc_ohc=xgmfZCi5oV0AX_adqtK&_nc_ht=scontent-sea1-1.xx&oh=c362dc85d254589b67b8b032205b2ec0&oe=5F464585\"}],\"statistics\":{\"actual\":{\"likeCount\":177,\"shareCount\":20,\"commentCount\":135,\"loveCount\":0,\"wowCount\":0,\"hahaCount\":24,\"sadCount\":11,\"angryCount\":26,\"thankfulCount\":0,\"careCount\":0},\"expected\":{\"likeCount\":102,\"shareCount\":6,\"commentCount\":26,\"loveCount\":3,\"wowCount\":2,\"hahaCount\":11,\"sadCount\":4,\"angryCount\":3,\"thankfulCount\":0,\"careCount\":2}},\"account\":{\"id\":44438,\"name\":\"Daily Monitor\",\"handle\":\"DailyMonitor\",\"profileImage\":\"https://scontent-sea1-1.xx.fbcdn.net/v/t1.0-1/p200x200/13173894_10153572191082197_7272304034766208758_n.jpg?_nc_cat=1&_nc_sid=dbb9e7&_nc_ohc=UYdo9M7kewEAX-FMYqY&_nc_ht=scontent-sea1-1.xx&_nc_tp=6&oh=bd9af00881492d0470fd5b3e8d523bcf&oe=5F49B78F\",\"subscriberCount\":1262758,\"url\":\"https://www.facebook.com/105583497196\",\"platform\":\"Facebook\",\"platformId\":\"105583497196\",\"accountType\":\"facebook_page\",\"pageAdminTopCountry\":\"UG\",\"verified\":true}},{\"id\":102075212368,\"platformId\":\"169252986456497_3236423609739404\",\"platform\":\"Facebook\",\"date\":\"2020-07-30 11:22:44\",\"updated\":\"2020-07-30 13:18:53\",\"type\":\"video\",\"caption\":\"ntv.co.ug\",\"description\":\"The Commission of Inquiry into Land Matters led by Justice Catherine Bamugemereire says that the land fund established to settle land matters, is used to finance irregular transactions. In a report\",\"message\":\"The Commission of Inquiry into Land Matters led by Justice Catherine Bamugemereire says that the land fund established to settle land matters is used to finance irregular transactions. #NTVNews\",\"expandedLinks\":[{\"original\":\"https://zionly.io/fUSDuSK?utm_medium=social&utm_source=facebook_NTV_Uganda\",\"expanded\":\"https://www.ntv.co.ug/news/national/Justice-Bamugemereire-hands-in-report-on-land-wrangles/4522324-5601568-4th269z/index.html\"}],\"link\":\"https://zionly.io/fUSDuSK?utm_medium=social&utm_source=facebook_NTV_Uganda\",\"postUrl\":\"https://www.facebook.com/NTVUganda/posts/3236423609739404\",\"subscriberCount\":1372498,\"score\":2.1136363636363638,\"media\":[{\"type\":\"video\",\"url\":\"https://www.youtube.com/embed/k_gIsDGoKNM\",\"height\":0,\"width\":0},{\"type\":\"photo\",\"url\":\"https://external-sea1-1.xx.fbcdn.net/safe_image.php?d=AQDGUl5LeoTKgt55&w=360&h=360&url=https%3A%2F%2Fimg.youtube.com%2Fvi%2Fk_gIsDGoKNM%2Fhqdefault.jpg&cfs=1&_nc_hash=AQCjxw8p9izZ95uF\",\"height\":360,\"width\":360,\"full\":\"https://external-sea1-1.xx.fbcdn.net/safe_image.php?d=AQA2MyFrWZ1bCT0J&w=480&h=360&url=https%3A%2F%2Fimg.youtube.com%2Fvi%2Fk_gIsDGoKNM%2Fhqdefault.jpg&crop&_nc_hash=AQAHMxE4fqWtGF19\"}],\"statistics\":{\"actual\":{\"likeCount\":78,\"shareCount\":0,\"commentCount\":13,\"loveCount\":1,\"wowCount\":0,\"hahaCount\":1,\"sadCount\":0,\"angryCount\":0,\"thankfulCount\":0,\"careCount\":0},\"expected\":{\"likeCount\":28,\"shareCount\":2,\"commentCount\":5,\"loveCount\":1,\"wowCount\":1,\"hahaCount\":3,\"sadCount\":2,\"angryCount\":2,\"thankfulCount\":0,\"careCount\":1}},\"account\":{\"id\":44437,\"name\":\"NTV Uganda\",\"handle\":\"NTVUganda\",\"profileImage\":\"https://scontent-sea1-1.xx.fbcdn.net/v/t1.0-1/p200x200/15977230_1235752523139866_5650700728042753639_n.png?_nc_cat=1&_nc_sid=dbb9e7&_nc_ohc=OtpbrpOzJjUAX-wcVm9&_nc_ht=scontent-sea1-1.xx&oh=92e2e09c80e1ac7121c3e88f11d60122&oe=5F4781C1\",\"subscriberCount\":1372498,\"url\":\"https://www.facebook.com/169252986456497\",\"platform\":\"Facebook\",\"platformId\":\"169252986456497\",\"accountType\":\"facebook_page\",\"pageAdminTopCountry\":\"UG\",\"verified\":true}},{\"id\":102077341387,\"platformId\":\"329423169077_10158769462114078\",\"platform\":\"Facebook\",\"date\":\"2020-07-30 11:53:36\",\"updated\":\"2020-07-30 13:26:47\",\"type\":\"photo\",\"message\":\"Mother of five knocked by speeding car, seeks help To make matters worse, the land lord is demanding her over sh1.2m and has told her to leave if she cannot pay up. For help, reach her on 0752516363. https://bit.ly/39GHxCf | #VisionUpdates\",\"expandedLinks\":[{\"original\":\"https://bit.ly/39GHxCf\",\"expanded\":\"https://www.newvision.co.ug/news/1523632/mother-knocked-speeding-car-seeks-help\"},{\"original\":\"https://www.facebook.com/thenewvision/photos/a.341594839077/10158769462114078/?type=3\",\"expanded\":\"https://www.facebook.com/thenewvision/photos/a.341594839077/10158769462114078/?type=3\"}],\"link\":\"https://www.facebook.com/thenewvision/photos/a.341594839077/10158769462114078/?type=3\",\"postUrl\":\"https://www.facebook.com/thenewvision/posts/10158769462114078\",\"subscriberCount\":1349453,\"score\":1.836734693877551,\"media\":[{\"type\":\"photo\",\"url\":\"https://scontent-sea1-1.xx.fbcdn.net/v/t1.0-9/109938699_10158769462119078_7117503583409712209_n.jpg?_nc_cat=100&_nc_sid=da1649&_nc_ohc=cqhLk9TlROYAX--mDMa&_nc_ht=scontent-sea1-1.xx&oh=bae05d11e4da4bcb4a00af01d8287adb&oe=5F491BB4\",\"height\":478,\"width\":720,\"full\":\"https://scontent-sea1-1.xx.fbcdn.net/v/t1.0-9/109938699_10158769462119078_7117503583409712209_n.jpg?_nc_cat=100&_nc_sid=da1649&_nc_ohc=cqhLk9TlROYAX--mDMa&_nc_ht=scontent-sea1-1.xx&oh=bae05d11e4da4bcb4a00af01d8287adb&oe=5F491BB4\"}],\"statistics\":{\"actual\":{\"likeCount\":113,\"shareCount\":6,\"commentCount\":26,\"loveCount\":0,\"wowCount\":0,\"hahaCount\":1,\"sadCount\":33,\"angryCount\":1,\"thankfulCount\":0,\"careCount\":1},\"expected\":{\"likeCount\":64,\"shareCount\":5,\"commentCount\":13,\"loveCount\":3,\"wowCount\":2,\"hahaCount\":5,\"sadCount\":4,\"angryCount\":2,\"thankfulCount\":0,\"careCount\":2}},\"account\":{\"id\":171199,\"name\":\"The New Vision\",\"handle\":\"thenewvision\",\"profileImage\":\"https://scontent-sea1-1.xx.fbcdn.net/v/t1.0-1/p200x200/91544846_10158380468919078_1555414262988406784_o.jpg?_nc_cat=1&_nc_sid=dbb9e7&_nc_ohc=o77gO5soPhYAX8tVSqy&_nc_ht=scontent-sea1-1.xx&_nc_tp=6&oh=59599f9abd777519508909837909d722&oe=5F4A29C1\",\"subscriberCount\":1349453,\"url\":\"https://www.facebook.com/329423169077\",\"platform\":\"Facebook\",\"platformId\":\"329423169077\",\"accountType\":\"facebook_page\",\"pageAdminTopCountry\":\"UG\",\"verified\":true}},{\"id\":102076838478,\"platformId\":\"169252986456497_3236456286402803\",\"platform\":\"Facebook\",\"date\":\"2020-07-30 11:40:04\",\"updated\":\"2020-07-30 13:18:53\",\"type\":\"video\",\"caption\":\"ntv.co.ug\",\"description\":\"The Alliance for National Transformation party has unveiled Arua Municipality MP Kassiano Wadri and Frank Mukunzi as new members of the Party. The two were unveiled this morning during a press\",\"message\":\"The Alliance for National Transformation party has unveiled Arua Municipality MP Kassiano Wadri and Frank Mukunzi as new members of the Party. #NTVNews\",\"expandedLinks\":[{\"original\":\"https://zionly.io/sFlAmOr?utm_medium=social&utm_source=facebook_NTV_Uganda\",\"expanded\":\"https://www.ntv.co.ug/news/national/Alliance-Party-unveils-MP-Kassiano-Wadri/4522324-5601564-dwyospz/index.html\"}],\"link\":\"https://zionly.io/sFlAmOr?utm_medium=social&utm_source=facebook_NTV_Uganda\",\"postUrl\":\"https://www.facebook.com/NTVUganda/posts/3236456286402803\",\"subscriberCount\":1372498,\"score\":1.8181818181818181,\"media\":[{\"type\":\"video\",\"url\":\"https://www.youtube.com/embed/GaShIJfpte8\",\"height\":0,\"width\":0},{\"type\":\"photo\",\"url\":\"https://external-sea1-1.xx.fbcdn.net/safe_image.php?d=AQCx-qiP1L2cds54&w=242&h=242&url=https%3A%2F%2Fimg.youtube.com%2Fvi%2FGaShIJfpte8%2Fhqdefault.jpg&cfs=1&_nc_hash=AQDTQ4-26WsXNFKo\",\"height\":242,\"width\":242,\"full\":\"https://external-sea1-1.xx.fbcdn.net/safe_image.php?d=AQDcKofXUBIL36lR&w=323&h=242&url=https%3A%2F%2Fimg.youtube.com%2Fvi%2FGaShIJfpte8%2Fhqdefault.jpg&crop&_nc_hash=AQAox8V8dlIoFJhq\"}],\"statistics\":{\"actual\":{\"likeCount\":66,\"shareCount\":0,\"commentCount\":13,\"loveCount\":0,\"wowCount\":0,\"hahaCount\":1,\"sadCount\":0,\"angryCount\":0,\"thankfulCount\":0,\"careCount\":0},\"expected\":{\"likeCount\":28,\"shareCount\":2,\"commentCount\":5,\"loveCount\":1,\"wowCount\":1,\"hahaCount\":3,\"sadCount\":2,\"angryCount\":2,\"thankfulCount\":0,\"careCount\":1}},\"account\":{\"id\":44437,\"name\":\"NTV Uganda\",\"handle\":\"NTVUganda\",\"profileImage\":\"https://scontent-sea1-1.xx.fbcdn.net/v/t1.0-1/p200x200/15977230_1235752523139866_5650700728042753639_n.png?_nc_cat=1&_nc_sid=dbb9e7&_nc_ohc=OtpbrpOzJjUAX-wcVm9&_nc_ht=scontent-sea1-1.xx&oh=92e2e09c80e1ac7121c3e88f11d60122&oe=5F4781C1\",\"subscriberCount\":1372498,\"url\":\"https://www.facebook.com/169252986456497\",\"platform\":\"Facebook\",\"platformId\":\"169252986456497\",\"accountType\":\"facebook_page\",\"pageAdminTopCountry\":\"UG\",\"verified\":true}}],\"pagination\":{\"nextPage\":\"https://api.crowdtangle.com/posts?token=s7FoeG8JWIttGwRcTsQ4fRYaeO5NixSFbFFeSaSs&sortBy=overperforming&endDate=2020-07-30T13:28&startDate=2020-07-30T07:28:20&searchField=TEXT_FIELDS_AND_IMAGE_TEXT&count=10&offset=10\"}}}'"
     },
     "metadata": {},
     "execution_count": 3
    }
   ],
   "source": [
    "url = f'https://api.crowdtangle.com/posts?token={api_token}'\n",
    "posts_data = requests.get(url)\n",
    "posts_data.text"
   ]
  },
  {
   "cell_type": "markdown",
   "metadata": {},
   "source": [
    "**Insert the posts into MongoDB**"
   ]
  },
  {
   "cell_type": "code",
   "execution_count": null,
   "metadata": {},
   "outputs": [],
   "source": [
    "col.insert_many(posts_data)"
   ]
  }
 ],
 "metadata": {
  "kernelspec": {
   "display_name": "Python 3",
   "language": "python",
   "name": "python3"
  },
  "language_info": {
   "codemirror_mode": {
    "name": "ipython",
    "version": 3
   },
   "file_extension": ".py",
   "mimetype": "text/x-python",
   "name": "python",
   "nbconvert_exporter": "python",
   "pygments_lexer": "ipython3",
   "version": "3.6.9-final"
  }
 },
 "nbformat": 4,
 "nbformat_minor": 2
}