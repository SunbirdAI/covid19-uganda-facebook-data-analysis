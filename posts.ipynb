{
 "cells": [
  {
   "cell_type": "markdown",
   "metadata": {},
   "source": [
    "### Fetch and analyze Facebook post data for Covid19"
   ]
  },
  {
   "cell_type": "markdown",
   "metadata": {},
   "source": [
    "**Import dependencies**"
   ]
  },
  {
   "cell_type": "code",
   "execution_count": 1,
   "metadata": {},
   "outputs": [],
   "source": [
    "from decouple import config\n",
    "import requests\n",
    "import pymongo"
   ]
  },
  {
   "cell_type": "code",
   "execution_count": 2,
   "metadata": {},
   "outputs": [],
   "source": [
    "api_token = config('CROWDTANGLE_API_TOKEN')\n",
    "group_list = config('GROUP_LIST_ID')"
   ]
  },
  {
   "cell_type": "markdown",
   "metadata": {},
   "source": [
    "**Set up `pymongo` to connect with MongoDB for storing the posts**"
   ]
  },
  {
   "cell_type": "code",
   "execution_count": 3,
   "metadata": {},
   "outputs": [],
   "source": [
    "db_client = pymongo.MongoClient()\n",
    "posts_db = db_client[\"fbposts\"]\n",
    "col = posts_db[\"posts\"]"
   ]
  },
  {
   "cell_type": "markdown",
   "metadata": {},
   "source": [
    "Fetch posts from our CrowdTangle List"
   ]
  },
  {
   "cell_type": "code",
   "execution_count": 4,
   "metadata": {},
   "outputs": [
    {
     "output_type": "execute_result",
     "data": {
      "text/plain": "{'posts': [{'id': 102956338333,\n   'platformId': '129941485127407_214128486708706',\n   'platform': 'Facebook',\n   'date': '2020-08-10 05:08:53',\n   'updated': '2020-08-10 06:46:46',\n   'type': 'photo',\n   'description': 'Happy birthday Baby Suubi our first Daughter \\n🎂🎂🎂🎂',\n   'expandedLinks': [{'original': 'https://www.facebook.com/photo.php?fbid=2761415310762662&set=p.2761415310762662&type=3',\n     'expanded': 'https://www.facebook.com/photo.php?fbid=2761415310762662&set=p.2761415310762662&type=3'}],\n   'link': 'https://www.facebook.com/photo.php?fbid=2761415310762662&set=p.2761415310762662&type=3',\n   'postUrl': 'https://www.facebook.com/groups/129941485127407/permalink/214128486708706',\n   'subscriberCount': 32552,\n   'score': 3.1052631578947367,\n   'media': [{'type': 'photo',\n     'url': 'https://scontent-sea1-1.xx.fbcdn.net/v/t1.0-9/s720x720/117086055_2761415314095995_8008256402983911004_n.jpg?_nc_cat=104&_nc_sid=110474&_nc_ohc=xQwxd3GsgcQAX_HvxZ3&_nc_ht=scontent-sea1-1.xx&_nc_tp=7&oh=f0f39a6425a45c39ab64b9aaa1ca653b&oe=5F547940',\n     'height': 720,\n     'width': 479,\n     'full': 'https://scontent-sea1-1.xx.fbcdn.net/v/t1.0-9/s720x720/117086055_2761415314095995_8008256402983911004_n.jpg?_nc_cat=104&_nc_sid=110474&_nc_ohc=xQwxd3GsgcQAX_HvxZ3&_nc_ht=scontent-sea1-1.xx&_nc_tp=7&oh=f0f39a6425a45c39ab64b9aaa1ca653b&oe=5F547940'}],\n   'statistics': {'actual': {'likeCount': 54,\n     'shareCount': 0,\n     'commentCount': 4,\n     'loveCount': 1,\n     'wowCount': 0,\n     'hahaCount': 0,\n     'sadCount': 0,\n     'angryCount': 0,\n     'thankfulCount': 0,\n     'careCount': 0},\n    'expected': {'likeCount': 4,\n     'shareCount': 7,\n     'commentCount': 3,\n     'loveCount': 1,\n     'wowCount': 0,\n     'hahaCount': 1,\n     'sadCount': 2,\n     'angryCount': 1,\n     'thankfulCount': 0,\n     'careCount': 1}},\n   'account': {'id': 12196133,\n    'name': 'NTV Uganda News Live',\n    'profileImage': 'https://scontent-sea1-1.xx.fbcdn.net/v/t1.0-0/cp0/c68.0.50.50a/p50x50/88151596_1207441696125385_7507520443050360832_n.jpg?_nc_cat=107&_nc_sid=ca434c&_nc_ohc=4W1EYLT3wzwAX-auaoG&_nc_ht=scontent-sea1-1.xx&oh=db37939fa562ba3618637d9dac6f293d&oe=5F5747DF',\n    'subscriberCount': 32552,\n    'url': 'https://www.facebook.com/groups/129941485127407',\n    'platform': 'Facebook',\n    'platformId': '129941485127407',\n    'accountType': 'facebook_group',\n    'verified': False}},\n  {'id': 102956338334,\n   'platformId': '129941485127407_214126886708866',\n   'platform': 'Facebook',\n   'date': '2020-08-10 05:03:42',\n   'updated': '2020-08-10 06:46:46',\n   'type': 'photo',\n   'description': 'ARE SOME PEOPLE DESTINED TO BE RICH\\n\\nEveryone can be rich as long as we are able to do what we desire freely and to have the fulfilment in life. The key of it is to live with or even less than what you have. To be “normal” even when you are financially capable to do a lot more.\\n\\nI have the conviction that any young man can rise out of poverty if he is willing to pay the price. If he is willing to plan, to stay disciplined and to make the hard choices. Rising out of poverty essentially involves making the unpopular choices;\\n\\n- it involves choosing to invest your money than buying the latest clothes. \\n\\n- it involves using your money to get more professional than getting turned up every Friday, Saturday and Wednesday nights\\n- it involves buying more books, and less suits only campuser will understand this\\n- it involves eating more at home than eating at KFC, cafe javas every now and then\\n- It involves opting to use public transport than taking car loans that deplete your saving capacity\\n\\n- More importantly, it involves marrying a woman who understands the dynamics of saving money.\\n\\nANYyoung man from ANY where at ANY point in time can get rich, if he willing to take the hard choices. This is the conviction that drives everyone’s life.\\n\\nJoin me as we continue with Gerard Kiwewa #Omutamivu_owomugaso . Subscribe to our YouTube channel Talk to Faridah smile with us.😚☺ https://youtu.be/ifAYKWcJhOE',\n   'expandedLinks': [{'original': 'https://youtu.be/ifAYKWcJhOE',\n     'expanded': 'https://youtu.be/ifAYKWcJhOE'},\n    {'original': 'https://www.facebook.com/fsnakazibwe/photos/a.173400206102018/2945375002237844/?type=3',\n     'expanded': 'https://www.facebook.com/fsnakazibwe/photos/a.173400206102018/2945375002237844/?type=3'}],\n   'link': 'https://www.facebook.com/fsnakazibwe/photos/a.173400206102018/2945375002237844/?type=3',\n   'postUrl': 'https://www.facebook.com/groups/129941485127407/permalink/214126886708866',\n   'subscriberCount': 32552,\n   'score': 2.736842105263158,\n   'media': [{'type': 'photo',\n     'url': 'https://scontent-sea1-1.xx.fbcdn.net/v/t1.0-0/p480x480/117216910_2945375008904510_7289663034358724065_o.jpg?_nc_cat=102&_nc_sid=8024bb&_nc_ohc=O6BOcTvfIQ0AX9oSHgv&_nc_ht=scontent-sea1-1.xx&_nc_tp=6&oh=dfc66ec4601e556283b39f865aafac80&oe=5F563384',\n     'height': 720,\n     'width': 480,\n     'full': 'https://scontent-sea1-1.xx.fbcdn.net/v/t1.0-0/p480x480/117216910_2945375008904510_7289663034358724065_o.jpg?_nc_cat=102&_nc_sid=8024bb&_nc_ohc=O6BOcTvfIQ0AX9oSHgv&_nc_ht=scontent-sea1-1.xx&_nc_tp=6&oh=dfc66ec4601e556283b39f865aafac80&oe=5F563384'}],\n   'statistics': {'actual': {'likeCount': 43,\n     'shareCount': 1,\n     'commentCount': 7,\n     'loveCount': 1,\n     'wowCount': 0,\n     'hahaCount': 0,\n     'sadCount': 0,\n     'angryCount': 0,\n     'thankfulCount': 0,\n     'careCount': 0},\n    'expected': {'likeCount': 4,\n     'shareCount': 7,\n     'commentCount': 3,\n     'loveCount': 1,\n     'wowCount': 0,\n     'hahaCount': 1,\n     'sadCount': 2,\n     'angryCount': 1,\n     'thankfulCount': 0,\n     'careCount': 1}},\n   'account': {'id': 12196133,\n    'name': 'NTV Uganda News Live',\n    'profileImage': 'https://scontent-sea1-1.xx.fbcdn.net/v/t1.0-0/cp0/c68.0.50.50a/p50x50/88151596_1207441696125385_7507520443050360832_n.jpg?_nc_cat=107&_nc_sid=ca434c&_nc_ohc=4W1EYLT3wzwAX-auaoG&_nc_ht=scontent-sea1-1.xx&oh=db37939fa562ba3618637d9dac6f293d&oe=5F5747DF',\n    'subscriberCount': 32552,\n    'url': 'https://www.facebook.com/groups/129941485127407',\n    'platform': 'Facebook',\n    'platformId': '129941485127407',\n    'accountType': 'facebook_group',\n    'verified': False},\n   'imageText': 'CD Gerald hotography'},\n  {'id': 102956338335,\n   'platformId': '129941485127407_214126833375538',\n   'platform': 'Facebook',\n   'date': '2020-08-10 05:03:33',\n   'updated': '2020-08-10 06:46:46',\n   'type': 'photo',\n   'description': 'Ndeeba  St. Peter’s Church was demolished in the night.',\n   'expandedLinks': [{'original': 'https://www.facebook.com/yigashakibu/photos/a.148401245849555/578856979470644/?type=3',\n     'expanded': 'https://www.facebook.com/yigashakibu/photos/a.148401245849555/578856979470644/?type=3'}],\n   'link': 'https://www.facebook.com/yigashakibu/photos/a.148401245849555/578856979470644/?type=3',\n   'postUrl': 'https://www.facebook.com/groups/129941485127407/permalink/214126833375538',\n   'subscriberCount': 32552,\n   'score': 1.736842105263158,\n   'media': [{'type': 'photo',\n     'url': 'https://scontent-sea1-1.xx.fbcdn.net/v/t1.0-9/117652705_578856982803977_6066778371124226042_n.jpg?_nc_cat=107&_nc_sid=110474&_nc_ohc=m26D88EGdb4AX_VFFBO&_nc_ht=scontent-sea1-1.xx&oh=e98f2c355f93098d50cf1394ddba76b2&oe=5F55CEBA',\n     'height': 640,\n     'width': 640,\n     'full': 'https://scontent-sea1-1.xx.fbcdn.net/v/t1.0-9/117652705_578856982803977_6066778371124226042_n.jpg?_nc_cat=107&_nc_sid=110474&_nc_ohc=m26D88EGdb4AX_VFFBO&_nc_ht=scontent-sea1-1.xx&oh=e98f2c355f93098d50cf1394ddba76b2&oe=5F55CEBA'}],\n   'statistics': {'actual': {'likeCount': 17,\n     'shareCount': 0,\n     'commentCount': 13,\n     'loveCount': 0,\n     'wowCount': 0,\n     'hahaCount': 0,\n     'sadCount': 3,\n     'angryCount': 0,\n     'thankfulCount': 0,\n     'careCount': 0},\n    'expected': {'likeCount': 4,\n     'shareCount': 7,\n     'commentCount': 3,\n     'loveCount': 1,\n     'wowCount': 0,\n     'hahaCount': 1,\n     'sadCount': 2,\n     'angryCount': 1,\n     'thankfulCount': 0,\n     'careCount': 1}},\n   'account': {'id': 12196133,\n    'name': 'NTV Uganda News Live',\n    'profileImage': 'https://scontent-sea1-1.xx.fbcdn.net/v/t1.0-0/cp0/c68.0.50.50a/p50x50/88151596_1207441696125385_7507520443050360832_n.jpg?_nc_cat=107&_nc_sid=ca434c&_nc_ohc=4W1EYLT3wzwAX-auaoG&_nc_ht=scontent-sea1-1.xx&oh=db37939fa562ba3618637d9dac6f293d&oe=5F5747DF',\n    'subscriberCount': 32552,\n    'url': 'https://www.facebook.com/groups/129941485127407',\n    'platform': 'Facebook',\n    'platformId': '129941485127407',\n    'accountType': 'facebook_group',\n    'verified': False}},\n  {'id': 102956338339,\n   'platformId': '129941485127407_214121810042707',\n   'platform': 'Facebook',\n   'date': '2020-08-10 04:48:12',\n   'updated': '2020-08-10 06:01:33',\n   'type': 'photo',\n   'description': 'ARE SOME PEOPLE DESTINED TO BE RICH\\n\\nEveryone can be rich as long as we are able to do what we desire freely and to have the fulfilment in life. The key of it is to live with or even less than what you have. To be “normal” even when you are financially capable to do a lot more.\\n\\nI have the conviction that any young man can rise out of poverty if he is willing to pay the price. If he is willing to plan, to stay disciplined and to make the hard choices. Rising out of poverty essentially involves making the unpopular choices;\\n\\n- it involves choosing to invest your money than buying the latest clothes. \\n\\n- it involves using your money to get more professional than getting turned up every Friday, Saturday and Wednesday nights\\n- it involves buying more books, and less suits only campuser will understand this\\n- it involves eating more at home than eating at KFC, cafe javas every now and then\\n- It involves opting to use public transport than taking car loans that deplete your saving capacity\\n\\n- More importantly, it involves marrying a woman who understands the dynamics of saving money.\\n\\nANYyoung man from ANY where at ANY point in time can get rich, if he willing to take the hard choices. This is the conviction that drives everyone’s life.\\n\\nJoin me as we continue with Gerard Kiwewa #Omutamivu_owomugaso . Subscribe to our YouTube channel Talk to Faridah smile with us.😚☺ https://youtu.be/ifAYKWcJhOE',\n   'expandedLinks': [{'original': 'https://youtu.be/ifAYKWcJhOE',\n     'expanded': 'https://youtu.be/ifAYKWcJhOE'},\n    {'original': 'https://www.facebook.com/fsnakazibwe/photos/a.173400206102018/2945375002237844/?type=3',\n     'expanded': 'https://www.facebook.com/fsnakazibwe/photos/a.173400206102018/2945375002237844/?type=3'}],\n   'link': 'https://www.facebook.com/fsnakazibwe/photos/a.173400206102018/2945375002237844/?type=3',\n   'postUrl': 'https://www.facebook.com/groups/129941485127407/permalink/214121810042707',\n   'subscriberCount': 32552,\n   'score': 1.0,\n   'media': [{'type': 'photo',\n     'url': 'https://scontent-sea1-1.xx.fbcdn.net/v/t1.0-0/p480x480/117216910_2945375008904510_7289663034358724065_o.jpg?_nc_cat=102&_nc_sid=8024bb&_nc_ohc=O6BOcTvfIQ0AX9oSHgv&_nc_ht=scontent-sea1-1.xx&_nc_tp=6&oh=dfc66ec4601e556283b39f865aafac80&oe=5F563384',\n     'height': 720,\n     'width': 480,\n     'full': 'https://scontent-sea1-1.xx.fbcdn.net/v/t1.0-0/p480x480/117216910_2945375008904510_7289663034358724065_o.jpg?_nc_cat=102&_nc_sid=8024bb&_nc_ohc=O6BOcTvfIQ0AX9oSHgv&_nc_ht=scontent-sea1-1.xx&_nc_tp=6&oh=dfc66ec4601e556283b39f865aafac80&oe=5F563384'}],\n   'statistics': {'actual': {'likeCount': 19,\n     'shareCount': 0,\n     'commentCount': 0,\n     'loveCount': 0,\n     'wowCount': 0,\n     'hahaCount': 0,\n     'sadCount': 0,\n     'angryCount': 0,\n     'thankfulCount': 0,\n     'careCount': 0},\n    'expected': {'likeCount': 3,\n     'shareCount': 3,\n     'commentCount': 3,\n     'loveCount': 1,\n     'wowCount': 0,\n     'hahaCount': 1,\n     'sadCount': 1,\n     'angryCount': 0,\n     'thankfulCount': 0,\n     'careCount': 1}},\n   'account': {'id': 12196133,\n    'name': 'NTV Uganda News Live',\n    'profileImage': 'https://scontent-sea1-1.xx.fbcdn.net/v/t1.0-0/cp0/c68.0.50.50a/p50x50/88151596_1207441696125385_7507520443050360832_n.jpg?_nc_cat=107&_nc_sid=ca434c&_nc_ohc=4W1EYLT3wzwAX-auaoG&_nc_ht=scontent-sea1-1.xx&oh=db37939fa562ba3618637d9dac6f293d&oe=5F5747DF',\n    'subscriberCount': 32552,\n    'url': 'https://www.facebook.com/groups/129941485127407',\n    'platform': 'Facebook',\n    'platformId': '129941485127407',\n    'accountType': 'facebook_group',\n    'verified': False},\n   'imageText': 'CD Gerald hotography'},\n  {'id': 102964527093,\n   'platformId': '129941485127407_214171266704428',\n   'platform': 'Facebook',\n   'date': '2020-08-10 07:14:19',\n   'updated': '2020-08-10 08:24:07',\n   'type': 'photo',\n   'description': 'Still some people are saying pakalast 😭😭😭😭',\n   'expandedLinks': [{'original': 'https://www.facebook.com/photo.php?fbid=1291845824491508&set=p.1291845824491508&type=3',\n     'expanded': 'https://www.facebook.com/photo.php?fbid=1291845824491508&set=p.1291845824491508&type=3'}],\n   'link': 'https://www.facebook.com/photo.php?fbid=1291845824491508&set=p.1291845824491508&type=3',\n   'postUrl': 'https://www.facebook.com/groups/129941485127407/permalink/214171266704428',\n   'subscriberCount': 32552,\n   'score': 0.6842105263157895,\n   'media': [{'type': 'photo',\n     'url': 'https://scontent-sea1-1.xx.fbcdn.net/v/t1.0-9/117368523_1291845827824841_5989217696435359542_n.jpg?_nc_cat=101&_nc_sid=110474&_nc_ohc=sclldq5bSDwAX9gW14X&_nc_ht=scontent-sea1-1.xx&oh=5d8858f2947fb1f0307a09f758fbf896&oe=5F57D51D',\n     'height': 474,\n     'width': 474,\n     'full': 'https://scontent-sea1-1.xx.fbcdn.net/v/t1.0-9/117368523_1291845827824841_5989217696435359542_n.jpg?_nc_cat=101&_nc_sid=110474&_nc_ohc=sclldq5bSDwAX9gW14X&_nc_ht=scontent-sea1-1.xx&oh=5d8858f2947fb1f0307a09f758fbf896&oe=5F57D51D'}],\n   'statistics': {'actual': {'likeCount': 8,\n     'shareCount': 0,\n     'commentCount': 3,\n     'loveCount': 0,\n     'wowCount': 1,\n     'hahaCount': 1,\n     'sadCount': 0,\n     'angryCount': 0,\n     'thankfulCount': 0,\n     'careCount': 0},\n    'expected': {'likeCount': 3,\n     'shareCount': 3,\n     'commentCount': 3,\n     'loveCount': 1,\n     'wowCount': 0,\n     'hahaCount': 1,\n     'sadCount': 1,\n     'angryCount': 0,\n     'thankfulCount': 0,\n     'careCount': 1}},\n   'account': {'id': 12196133,\n    'name': 'NTV Uganda News Live',\n    'profileImage': 'https://scontent-sea1-1.xx.fbcdn.net/v/t1.0-0/cp0/c68.0.50.50a/p50x50/88151596_1207441696125385_7507520443050360832_n.jpg?_nc_cat=107&_nc_sid=ca434c&_nc_ohc=4W1EYLT3wzwAX-auaoG&_nc_ht=scontent-sea1-1.xx&oh=db37939fa562ba3618637d9dac6f293d&oe=5F5747DF',\n    'subscriberCount': 32552,\n    'url': 'https://www.facebook.com/groups/129941485127407',\n    'platform': 'Facebook',\n    'platformId': '129941485127407',\n    'accountType': 'facebook_group',\n    'verified': False},\n   'imageText': '10% ZOMBO DISTRICT RMME HEADQUARTERS RTERS'},\n  {'id': 102964527101,\n   'platformId': '129941485127407_214163596705195',\n   'platform': 'Facebook',\n   'date': '2020-08-10 06:50:52',\n   'updated': '2020-08-10 07:35:30',\n   'type': 'native_video',\n   'description': 'KENZO nakugambye bagenda kulabisa blood nga owakana. Now see🙄',\n   'expandedLinks': [{'original': 'https://www.facebook.com/BigEyeStarBossMusic/videos/3076051275954579/',\n     'expanded': 'https://www.facebook.com/BigEyeStarBossMusic/videos/3076051275954579/'}],\n   'link': 'https://www.facebook.com/BigEyeStarBossMusic/videos/3076051275954579/',\n   'postUrl': 'https://www.facebook.com/groups/129941485127407/permalink/214163596705195',\n   'subscriberCount': 32552,\n   'score': 0.3157894736842105,\n   'media': [{'type': 'video',\n     'url': 'https://video-sea1-1.xx.fbcdn.net/v/t42.9040-2/117409884_1135765510157927_8397469847944787163_n.mp4?_nc_cat=104&_nc_sid=985c63&efg=eyJybHIiOjMwNiwicmxhIjo1MTIsInZlbmNvZGVfdGFnIjoibGVnYWN5X3NkIn0%3D&_nc_ohc=xUeENVpOJmYAX9jXxXO&rl=306&vabr=170&_nc_ht=video-sea1-1.xx&oh=873ff2280673d37aff806704f4b09dfe&oe=5F329DBE',\n     'height': 0,\n     'width': 0},\n    {'type': 'photo',\n     'url': 'https://scontent-sea1-1.xx.fbcdn.net/v/t15.5256-10/117395358_3076051972621176_2553811140353329178_n.jpg?_nc_cat=104&_nc_sid=ad6a45&_nc_ohc=GmRDEpWod_AAX-WHWlw&_nc_ht=scontent-sea1-1.xx&oh=2b82ad614df81d2b320329ecfd2a7e91&oe=5F555FB8',\n     'height': 224,\n     'width': 400,\n     'full': 'https://scontent-sea1-1.xx.fbcdn.net/v/t15.5256-10/117395358_3076051972621176_2553811140353329178_n.jpg?_nc_cat=104&_nc_sid=ad6a45&_nc_ohc=GmRDEpWod_AAX-WHWlw&_nc_ht=scontent-sea1-1.xx&oh=2b82ad614df81d2b320329ecfd2a7e91&oe=5F555FB8'}],\n   'statistics': {'actual': {'likeCount': 3,\n     'shareCount': 0,\n     'commentCount': 3,\n     'loveCount': 0,\n     'wowCount': 0,\n     'hahaCount': 0,\n     'sadCount': 0,\n     'angryCount': 0,\n     'thankfulCount': 0,\n     'careCount': 0},\n    'expected': {'likeCount': 2,\n     'shareCount': 1,\n     'commentCount': 1,\n     'loveCount': 0,\n     'wowCount': 0,\n     'hahaCount': 0,\n     'sadCount': 0,\n     'angryCount': 0,\n     'thankfulCount': 0,\n     'careCount': 0}},\n   'account': {'id': 12196133,\n    'name': 'NTV Uganda News Live',\n    'profileImage': 'https://scontent-sea1-1.xx.fbcdn.net/v/t1.0-0/cp0/c68.0.50.50a/p50x50/88151596_1207441696125385_7507520443050360832_n.jpg?_nc_cat=107&_nc_sid=ca434c&_nc_ohc=4W1EYLT3wzwAX-auaoG&_nc_ht=scontent-sea1-1.xx&oh=db37939fa562ba3618637d9dac6f293d&oe=5F5747DF',\n    'subscriberCount': 32552,\n    'url': 'https://www.facebook.com/groups/129941485127407',\n    'platform': 'Facebook',\n    'platformId': '129941485127407',\n    'accountType': 'facebook_group',\n    'verified': False},\n   'videoLengthMS': 76951}],\n 'pagination': {}}"
     },
     "metadata": {},
     "execution_count": 4
    }
   ],
   "source": [
    "payload = {'token': api_token, 'listIds': group_list}\n",
    "url = 'https://api.crowdtangle.com/posts'\n",
    "posts_data = requests.get(url, params=payload)\n",
    "posts = posts_data.json()['result']\n",
    "posts"
   ]
  },
  {
   "cell_type": "markdown",
   "metadata": {},
   "source": [
    "**Insert the posts into MongoDB**"
   ]
  },
  {
   "cell_type": "code",
   "execution_count": 5,
   "metadata": {},
   "outputs": [
    {
     "output_type": "execute_result",
     "data": {
      "text/plain": "<pymongo.results.InsertManyResult at 0x7f950b82c888>"
     },
     "metadata": {},
     "execution_count": 5
    }
   ],
   "source": [
    "col.insert_many(posts['posts'])"
   ]
  },
  {
   "cell_type": "code",
   "execution_count": null,
   "metadata": {},
   "outputs": [],
   "source": []
  }
 ],
 "metadata": {
  "kernelspec": {
   "display_name": "Python 3",
   "language": "python",
   "name": "python3"
  },
  "language_info": {
   "codemirror_mode": {
    "name": "ipython",
    "version": 3
   },
   "file_extension": ".py",
   "mimetype": "text/x-python",
   "name": "python",
   "nbconvert_exporter": "python",
   "pygments_lexer": "ipython3",
   "version": "3.6.9-final"
  }
 },
 "nbformat": 4,
 "nbformat_minor": 2
}